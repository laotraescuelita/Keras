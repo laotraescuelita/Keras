{
 "cells": [
  {
   "cell_type": "markdown",
   "id": "5ed9ce45",
   "metadata": {},
   "source": [
    "<h1> Datos para probar las técnicas de analísis. </h1>\n",
    "\n",
    "<h2>Los pasos que intentare seguir para tener una metodología son:</h2>\n",
    "\n",
    "    <li>Paso cero: Extraccion de los datos, limpieza, reducción y eliminación en los casos que apliquen.</li>\n",
    "    <li>Paso uno: Estandarizar, normalizar y/o reducir los datos.</li>\n",
    "    <li>Paso dos: Codificar las variables categoricas.</li>\n",
    "    <li>Paso tres: Escojer el médelo de machine learning que nos ayude a resolver el problema</li>\n",
    "\n",
    "<p>Estos datos se bajaron de kaggle. Es una empresa que tiene farmacias en toda europa. Así que busca conocer </p>\n",
    "<p>el comportamiento de sus ventas. Lo que vamos a realizar es una analísis de regresión multivariable. </p>"
   ]
  },
  {
   "cell_type": "code",
   "execution_count": 7,
   "id": "20b5659f",
   "metadata": {},
   "outputs": [],
   "source": [
    "#Vamos a importar las librerias para manipular datos. \n",
    "import pandas as pd \n",
    "import numpy as np \n",
    "import matplotlib.pyplot as plt \n",
    "import seaborn as sns\n",
    "%matplotlib inline"
   ]
  },
  {
   "cell_type": "code",
   "execution_count": 8,
   "id": "55d6ab8d",
   "metadata": {},
   "outputs": [
    {
     "name": "stdout",
     "output_type": "stream",
     "text": [
      "Tamaño de la matriz\n",
      " (1017209, 9)\n",
      "Informacion de las primeras columnas\n",
      "    Store  DayOfWeek        Date  Sales  Customers  Open  Promo StateHoliday  \\\n",
      "0      1          5  2015-07-31   5263        555     1      1            0   \n",
      "1      2          5  2015-07-31   6064        625     1      1            0   \n",
      "2      3          5  2015-07-31   8314        821     1      1            0   \n",
      "3      4          5  2015-07-31  13995       1498     1      1            0   \n",
      "4      5          5  2015-07-31   4822        559     1      1            0   \n",
      "\n",
      "   SchoolHoliday  \n",
      "0              1  \n",
      "1              1  \n",
      "2              1  \n",
      "3              1  \n",
      "4              1  \n"
     ]
    },
    {
     "name": "stderr",
     "output_type": "stream",
     "text": [
      "C:\\Users\\EQUIPO\\AppData\\Local\\Programs\\Python\\Python310\\lib\\site-packages\\IPython\\core\\interactiveshell.py:3251: DtypeWarning: Columns (7) have mixed types.Specify dtype option on import or set low_memory=False.\n",
      "  exec(code_obj, self.user_global_ns, self.user_ns)\n"
     ]
    }
   ],
   "source": [
    "#Importemos los datos de entrenamiento y verifiquemos su tamaño \n",
    "train = pd.read_csv(\"DrugStoreTrain.csv\")\n",
    "print(\"Tamaño de la matriz\\n\", train.shape)\n",
    "print(\"Informacion de las primeras columnas\\n\", train.head())\n",
    "#Aqui observamos las ventas de cada tienda por fecha"
   ]
  },
  {
   "cell_type": "code",
   "execution_count": 9,
   "id": "0e7c9a2d",
   "metadata": {},
   "outputs": [
    {
     "name": "stdout",
     "output_type": "stream",
     "text": [
      "Tamaño de la matriz\n",
      " (1115, 10)\n",
      "Informacion de las primeras columnas\n",
      "    Store StoreType Assortment  CompetitionDistance  CompetitionOpenSinceMonth  \\\n",
      "0      1         c          a               1270.0                        9.0   \n",
      "1      2         a          a                570.0                       11.0   \n",
      "2      3         a          a              14130.0                       12.0   \n",
      "3      4         c          c                620.0                        9.0   \n",
      "4      5         a          a              29910.0                        4.0   \n",
      "\n",
      "   CompetitionOpenSinceYear  Promo2  Promo2SinceWeek  Promo2SinceYear  \\\n",
      "0                    2008.0       0              NaN              NaN   \n",
      "1                    2007.0       1             13.0           2010.0   \n",
      "2                    2006.0       1             14.0           2011.0   \n",
      "3                    2009.0       0              NaN              NaN   \n",
      "4                    2015.0       0              NaN              NaN   \n",
      "\n",
      "     PromoInterval  \n",
      "0              NaN  \n",
      "1  Jan,Apr,Jul,Oct  \n",
      "2  Jan,Apr,Jul,Oct  \n",
      "3              NaN  \n",
      "4              NaN  \n"
     ]
    }
   ],
   "source": [
    "#Importemos los datos de cada farmacia.\n",
    "store = pd.read_csv(\"DrugStore.csv\")\n",
    "print(\"Tamaño de la matriz\\n\", store.shape)\n",
    "print(\"Informacion de las primeras columnas\\n\", store.head())\n",
    "#Aquiobservamos las caracteristicas de cada tienda."
   ]
  },
  {
   "cell_type": "code",
   "execution_count": 245,
   "id": "cf78c490",
   "metadata": {},
   "outputs": [
    {
     "name": "stdout",
     "output_type": "stream",
     "text": [
      "El nuevo tamaño de la matriz\n",
      " (1017209, 18)\n",
      "Las primeras filas\n",
      "    Store StoreType Assortment  CompetitionDistance  CompetitionOpenSinceMonth  \\\n",
      "0      1         c          a               1270.0                        9.0   \n",
      "1      1         c          a               1270.0                        9.0   \n",
      "2      1         c          a               1270.0                        9.0   \n",
      "3      1         c          a               1270.0                        9.0   \n",
      "4      1         c          a               1270.0                        9.0   \n",
      "\n",
      "   CompetitionOpenSinceYear  Promo2  Promo2SinceWeek  Promo2SinceYear  \\\n",
      "0                    2008.0       0              NaN              NaN   \n",
      "1                    2008.0       0              NaN              NaN   \n",
      "2                    2008.0       0              NaN              NaN   \n",
      "3                    2008.0       0              NaN              NaN   \n",
      "4                    2008.0       0              NaN              NaN   \n",
      "\n",
      "  PromoInterval  DayOfWeek        Date  Sales  Customers  Open  Promo  \\\n",
      "0           NaN          5  2015-07-31   5263        555     1      1   \n",
      "1           NaN          4  2015-07-30   5020        546     1      1   \n",
      "2           NaN          3  2015-07-29   4782        523     1      1   \n",
      "3           NaN          2  2015-07-28   5011        560     1      1   \n",
      "4           NaN          1  2015-07-27   6102        612     1      1   \n",
      "\n",
      "  StateHoliday  SchoolHoliday  \n",
      "0            0              1  \n",
      "1            0              1  \n",
      "2            0              1  \n",
      "3            0              1  \n",
      "4            0              1  \n"
     ]
    }
   ],
   "source": [
    "#Vamos a unir las matrices para poder realizar el analísis con base en sus caracteristica y no solo el tiempo. \n",
    "df = store.merge(train,on=[\"Store\"], how=\"inner\")\n",
    "print(\"El nuevo tamaño de la matriz\\n\", df.shape)\n",
    "print(\"Las primeras filas\\n\", df.head(5))"
   ]
  },
  {
   "cell_type": "code",
   "execution_count": 246,
   "id": "81f08790",
   "metadata": {},
   "outputs": [
    {
     "name": "stdout",
     "output_type": "stream",
     "text": [
      "Miremos cuanta información esta perdida: \n",
      " Store                             0\n",
      "StoreType                         0\n",
      "Assortment                        0\n",
      "CompetitionDistance            2642\n",
      "CompetitionOpenSinceMonth    323348\n",
      "CompetitionOpenSinceYear     323348\n",
      "Promo2                            0\n",
      "Promo2SinceWeek              508031\n",
      "Promo2SinceYear              508031\n",
      "PromoInterval                508031\n",
      "DayOfWeek                         0\n",
      "Date                              0\n",
      "Sales                             0\n",
      "Customers                         0\n",
      "Open                              0\n",
      "Promo                             0\n",
      "StateHoliday                      0\n",
      "SchoolHoliday                     0\n",
      "dtype: int64\n",
      "Miremos el resultado en procentaje \n",
      " Store                         0.000000\n",
      "StoreType                     0.000000\n",
      "Assortment                    0.000000\n",
      "CompetitionDistance           0.259730\n",
      "CompetitionOpenSinceMonth    31.787764\n",
      "CompetitionOpenSinceYear     31.787764\n",
      "Promo2                        0.000000\n",
      "Promo2SinceWeek              49.943620\n",
      "Promo2SinceYear              49.943620\n",
      "PromoInterval                49.943620\n",
      "DayOfWeek                     0.000000\n",
      "Date                          0.000000\n",
      "Sales                         0.000000\n",
      "Customers                     0.000000\n",
      "Open                          0.000000\n",
      "Promo                         0.000000\n",
      "StateHoliday                  0.000000\n",
      "SchoolHoliday                 0.000000\n",
      "dtype: float64\n"
     ]
    }
   ],
   "source": [
    "print(\"Miremos cuanta información esta perdida: \\n\", df.isnull().sum()  )\n",
    "print( \"Miremos el resultado en procentaje \\n\", df.isnull().sum()/df.shape[0]*100)"
   ]
  },
  {
   "cell_type": "code",
   "execution_count": 247,
   "id": "62beb229",
   "metadata": {},
   "outputs": [
    {
     "data": {
      "text/plain": [
       "Index(['Store', 'StoreType', 'Assortment', 'CompetitionDistance', 'Promo2',\n",
       "       'DayOfWeek', 'Date', 'Sales', 'Customers', 'Open', 'Promo',\n",
       "       'StateHoliday', 'SchoolHoliday'],\n",
       "      dtype='object')"
      ]
     },
     "execution_count": 247,
     "metadata": {},
     "output_type": "execute_result"
    }
   ],
   "source": [
    "#Las siguiente columnas serán elimnadas de la matriz ya que superan un 30 porciento de datos perdidos.|\n",
    "df = df.drop([\"CompetitionOpenSinceMonth\", \"CompetitionOpenSinceYear\",\"Promo2SinceWeek\",\"Promo2SinceYear\",\"PromoInterval\"], axis=1)\n",
    "df.columns"
   ]
  },
  {
   "cell_type": "code",
   "execution_count": 248,
   "id": "79ec1fb7",
   "metadata": {},
   "outputs": [
    {
     "name": "stdout",
     "output_type": "stream",
     "text": [
      "Miremos cuanta información esta perdida: \n",
      " Store                  0\n",
      "StoreType              0\n",
      "Assortment             0\n",
      "CompetitionDistance    0\n",
      "Promo2                 0\n",
      "DayOfWeek              0\n",
      "Date                   0\n",
      "Sales                  0\n",
      "Customers              0\n",
      "Open                   0\n",
      "Promo                  0\n",
      "StateHoliday           0\n",
      "SchoolHoliday          0\n",
      "dtype: int64\n",
      "Miremos el resultado en procentaje \n",
      " Store                  0.0\n",
      "StoreType              0.0\n",
      "Assortment             0.0\n",
      "CompetitionDistance    0.0\n",
      "Promo2                 0.0\n",
      "DayOfWeek              0.0\n",
      "Date                   0.0\n",
      "Sales                  0.0\n",
      "Customers              0.0\n",
      "Open                   0.0\n",
      "Promo                  0.0\n",
      "StateHoliday           0.0\n",
      "SchoolHoliday          0.0\n",
      "dtype: float64\n"
     ]
    }
   ],
   "source": [
    "#Se corregira el .25 porciento de \"competitiondistance\", se llena la información con la moda de esa variable.\n",
    "df[\"CompetitionDistance\"]=df[\"CompetitionDistance\"].fillna(df[\"CompetitionDistance\"].mode()[0])\n",
    "print(\"Miremos cuanta información esta perdida: \\n\", df.isnull().sum()  )\n",
    "print( \"Miremos el resultado en procentaje \\n\", df.isnull().sum()/df.shape[0]*100)"
   ]
  },
  {
   "cell_type": "code",
   "execution_count": 249,
   "id": "fed5feaa",
   "metadata": {},
   "outputs": [
    {
     "name": "stdout",
     "output_type": "stream",
     "text": [
      "Cantidad de farmacias diferentes:\n",
      " 1115\n",
      "Cantidad de dias diferentes:\n",
      " 942\n",
      "Venta promedio diaria:\n",
      "  5773.82\n"
     ]
    }
   ],
   "source": [
    "#Cantidad de farmacias que se estan analizando, sus ventas diarias en genral y los dias que se tomo la información.\n",
    "print(\"Cantidad de farmacias diferentes:\\n\",len(df[\"Store\"].unique()))\n",
    "print(\"Cantidad de dias diferentes:\\n\", len(df[\"Date\"].unique()))\n",
    "print(\"Venta promedio diaria:\\n \",round(df[\"Sales\"].mean(),2))"
   ]
  },
  {
   "cell_type": "code",
   "execution_count": 250,
   "id": "86b328a7",
   "metadata": {},
   "outputs": [
    {
     "name": "stdout",
     "output_type": "stream",
     "text": [
      "<class 'pandas.core.frame.DataFrame'>\n",
      "Int64Index: 1017209 entries, 0 to 1017208\n",
      "Data columns (total 13 columns):\n",
      " #   Column               Non-Null Count    Dtype  \n",
      "---  ------               --------------    -----  \n",
      " 0   Store                1017209 non-null  int64  \n",
      " 1   StoreType            1017209 non-null  object \n",
      " 2   Assortment           1017209 non-null  object \n",
      " 3   CompetitionDistance  1017209 non-null  float64\n",
      " 4   Promo2               1017209 non-null  int64  \n",
      " 5   DayOfWeek            1017209 non-null  int64  \n",
      " 6   Date                 1017209 non-null  object \n",
      " 7   Sales                1017209 non-null  int64  \n",
      " 8   Customers            1017209 non-null  int64  \n",
      " 9   Open                 1017209 non-null  int64  \n",
      " 10  Promo                1017209 non-null  int64  \n",
      " 11  StateHoliday         1017209 non-null  object \n",
      " 12  SchoolHoliday        1017209 non-null  int64  \n",
      "dtypes: float64(1), int64(8), object(4)\n",
      "memory usage: 108.6+ MB\n"
     ]
    }
   ],
   "source": [
    "#Ahora comencemos a diferenciar los tipos de variables que tenemos en la matriz. \n",
    "df.info()"
   ]
  },
  {
   "cell_type": "code",
   "execution_count": 251,
   "id": "6c419b67",
   "metadata": {},
   "outputs": [],
   "source": [
    "#Separemos las columnas numericas de las categoricas. Como lo índica la matriz.\n",
    "columnas_categoricas = df.select_dtypes(\"object\")\n",
    "columnas_numericas = df.select_dtypes(np.number)"
   ]
  },
  {
   "cell_type": "code",
   "execution_count": 252,
   "id": "408b4c49",
   "metadata": {},
   "outputs": [
    {
     "name": "stdout",
     "output_type": "stream",
     "text": [
      "Hay que analizar las variables numericas \n"
     ]
    },
    {
     "data": {
      "text/plain": [
       "Index(['Store', 'CompetitionDistance', 'Promo2', 'DayOfWeek', 'Sales',\n",
       "       'Customers', 'Open', 'Promo', 'SchoolHoliday'],\n",
       "      dtype='object')"
      ]
     },
     "execution_count": 252,
     "metadata": {},
     "output_type": "execute_result"
    }
   ],
   "source": [
    "print( \"Hay que analizar las variables numericas \")\n",
    "columnas_numericas.columns"
   ]
  },
  {
   "cell_type": "code",
   "execution_count": 253,
   "id": "0250c45d",
   "metadata": {},
   "outputs": [
    {
     "data": {
      "text/plain": [
       "array([[<AxesSubplot:title={'center':'Store'}>,\n",
       "        <AxesSubplot:title={'center':'CompetitionDistance'}>,\n",
       "        <AxesSubplot:title={'center':'Promo2'}>],\n",
       "       [<AxesSubplot:title={'center':'DayOfWeek'}>,\n",
       "        <AxesSubplot:title={'center':'Sales'}>,\n",
       "        <AxesSubplot:title={'center':'Customers'}>],\n",
       "       [<AxesSubplot:title={'center':'Open'}>,\n",
       "        <AxesSubplot:title={'center':'Promo'}>,\n",
       "        <AxesSubplot:title={'center':'SchoolHoliday'}>]], dtype=object)"
      ]
     },
     "execution_count": 253,
     "metadata": {},
     "output_type": "execute_result"
    },
    {
     "data": {
      "image/png": "[encoded data removed]",
      "text/plain": [
       "<Figure size 1296x720 with 9 Axes>"
      ]
     },
     "metadata": {
      "needs_background": "light"
     },
     "output_type": "display_data"
    }
   ],
   "source": [
    "df.hist(figsize=(18,10))\n",
    "#Encontramos variables categoricas pero ya codificadas. Y observamos graficos que muestran algunos aoutliers por ejemplo:\n",
    "#la variable que nos interesa predecir. "
   ]
  },
  {
   "cell_type": "code",
   "execution_count": 254,
   "id": "e26fffaa",
   "metadata": {},
   "outputs": [
    {
     "data": {
      "image/png": "[encoded data removed]",
      "text/plain": [
       "<Figure size 1152x288 with 3 Axes>"
      ]
     },
     "metadata": {
      "needs_background": "light"
     },
     "output_type": "display_data"
    }
   ],
   "source": [
    "#Las variables promo2,open,promo y schoolholiday son categoricas ya codificadas. \n",
    "#Así que analizamos las variables realmente numericas ppara buscar aoutliers ya que la forma de la gráfica nos muestra que hay.\n",
    "#La variable store y dayofweek tiene una distribucion normal.\n",
    "columnas_numericas = ['CompetitionDistance', 'Sales', 'Customers' ]\n",
    "#Aquí ya miramos que si existen ouliers. Bueno hay que limpiar estos datos y todos aquellos que esten en la misma situación.\n",
    "plt.figure(figsize = (16, 4))\n",
    "for i, col in enumerate(columnas_numericas):\n",
    "    plt.subplot(1, len(columnas_numericas), i+1)\n",
    "    df[col].plot(kind = 'box')"
   ]
  },
  {
   "cell_type": "code",
   "execution_count": 255,
   "id": "6c955e30",
   "metadata": {},
   "outputs": [
    {
     "data": {
      "image/png": "[encoded data removed]",
      "text/plain": [
       "<Figure size 1296x432 with 3 Axes>"
      ]
     },
     "metadata": {
      "needs_background": "light"
     },
     "output_type": "display_data"
    }
   ],
   "source": [
    "#Vamos a remover los \"outliers para poder tener datos que nos ayuden a tener mejores resultados la entrenar el red neuronal. \n",
    "columnas_numericas = ['CompetitionDistance', 'Sales', 'Customers' ]\n",
    "def remover_outliers(df, columnas):\n",
    "    df = df.copy()\n",
    "    for col in columnas:\n",
    "        q1 = df[col].quantile(q = 0.25)\n",
    "        q3 = df[col].quantile(q = 0.75)\n",
    "        intr_qr = q3 - q1\n",
    "        upper_range = q3 + (1.5*intr_qr)\n",
    "        lower_range = q1 - (1.5*intr_qr)\n",
    "        df.loc[df[col] > upper_range, col] = np.nan\n",
    "        df.loc[df[col] < lower_range, col] = np.nan\n",
    "    return df.dropna()\n",
    "\n",
    "df = remover_outliers(df, columnas_numericas)\n",
    "\n",
    "plt.figure(figsize = (18, 6))\n",
    "for i, col in enumerate(columnas_numericas):\n",
    "    plt.subplot(1, len(columnas_numericas), i+1)\n",
    "    df[col].plot(kind = 'box')"
   ]
  },
  {
   "cell_type": "code",
   "execution_count": 256,
   "id": "2a6778e2",
   "metadata": {},
   "outputs": [
    {
     "data": {
      "image/png": "[encoded data removed]",
      "text/plain": [
       "<Figure size 1296x432 with 2 Axes>"
      ]
     },
     "metadata": {
      "needs_background": "light"
     },
     "output_type": "display_data"
    }
   ],
   "source": [
    "#Volvamos a limpiar las siguientes variables\n",
    "columnas_numericas = ['CompetitionDistance', 'Sales' ]\n",
    "\n",
    "df = remover_outliers(df, columnas_numericas)\n",
    "\n",
    "plt.figure(figsize = (18, 6))\n",
    "for i, col in enumerate(columnas_numericas):\n",
    "    plt.subplot(1, len(columnas_numericas), i+1)\n",
    "    df[col].plot(kind = 'box')"
   ]
  },
  {
   "cell_type": "code",
   "execution_count": 257,
   "id": "265776e0",
   "metadata": {},
   "outputs": [
    {
     "data": {
      "image/png": "[encoded data removed]",
      "text/plain": [
       "<Figure size 1296x432 with 1 Axes>"
      ]
     },
     "metadata": {
      "needs_background": "light"
     },
     "output_type": "display_data"
    }
   ],
   "source": [
    "#Volvamos a limpiar las siguientes variables\n",
    "columnas_numericas = ['CompetitionDistance']\n",
    "\n",
    "df = remover_outliers(df, columnas_numericas)\n",
    "\n",
    "plt.figure(figsize = (18, 6))\n",
    "for i, col in enumerate(columnas_numericas):\n",
    "    plt.subplot(1, len(columnas_numericas), i+1)\n",
    "    df[col].plot(kind = 'box')"
   ]
  },
  {
   "cell_type": "code",
   "execution_count": 258,
   "id": "3b6713d8",
   "metadata": {},
   "outputs": [
    {
     "data": {
      "text/plain": [
       "array([[<AxesSubplot:title={'center':'Store'}>,\n",
       "        <AxesSubplot:title={'center':'CompetitionDistance'}>,\n",
       "        <AxesSubplot:title={'center':'Promo2'}>],\n",
       "       [<AxesSubplot:title={'center':'DayOfWeek'}>,\n",
       "        <AxesSubplot:title={'center':'Sales'}>,\n",
       "        <AxesSubplot:title={'center':'Customers'}>],\n",
       "       [<AxesSubplot:title={'center':'Open'}>,\n",
       "        <AxesSubplot:title={'center':'Promo'}>,\n",
       "        <AxesSubplot:title={'center':'SchoolHoliday'}>]], dtype=object)"
      ]
     },
     "execution_count": 258,
     "metadata": {},
     "output_type": "execute_result"
    },
    {
     "data": {
      "image/png": "[encoded data removed]",
      "text/plain": [
       "<Figure size 1296x720 with 9 Axes>"
      ]
     },
     "metadata": {
      "needs_background": "light"
     },
     "output_type": "display_data"
    }
   ],
   "source": [
    "df.hist(figsize=(18,10))"
   ]
  },
  {
   "cell_type": "code",
   "execution_count": 259,
   "id": "4450aa41",
   "metadata": {},
   "outputs": [
    {
     "name": "stdout",
     "output_type": "stream",
     "text": [
      "Hay que analizar las variables categoricas  o de tiempos \n"
     ]
    },
    {
     "data": {
      "text/plain": [
       "Index(['StoreType', 'Assortment', 'Date', 'StateHoliday'], dtype='object')"
      ]
     },
     "execution_count": 259,
     "metadata": {},
     "output_type": "execute_result"
    }
   ],
   "source": [
    "print( \"Hay que analizar las variables categoricas  o de tiempos \")\n",
    "columnas_categoricas.columns"
   ]
  },
  {
   "cell_type": "code",
   "execution_count": 260,
   "id": "9fd0717f",
   "metadata": {},
   "outputs": [
    {
     "name": "stderr",
     "output_type": "stream",
     "text": [
      "C:\\Users\\EQUIPO\\AppData\\Local\\Temp\\ipykernel_5584\\4183395282.py:8: FutureWarning: Series.dt.weekofyear and Series.dt.week have been deprecated.  Please use Series.dt.isocalendar().week instead.\n",
      "  df[\"Week\"] = df[\"Date\"].dt.week\n"
     ]
    },
    {
     "data": {
      "text/html": [
       "<div>\n",
       "<style scoped>\n",
       "    .dataframe tbody tr th:only-of-type {\n",
       "        vertical-align: middle;\n",
       "    }\n",
       "\n",
       "    .dataframe tbody tr th {\n",
       "        vertical-align: top;\n",
       "    }\n",
       "\n",
       "    .dataframe thead th {\n",
       "        text-align: right;\n",
       "    }\n",
       "</style>\n",
       "<table border=\"1\" class=\"dataframe\">\n",
       "  <thead>\n",
       "    <tr style=\"text-align: right;\">\n",
       "      <th></th>\n",
       "      <th>Store</th>\n",
       "      <th>StoreType</th>\n",
       "      <th>Assortment</th>\n",
       "      <th>CompetitionDistance</th>\n",
       "      <th>Promo2</th>\n",
       "      <th>DayOfWeek</th>\n",
       "      <th>Date</th>\n",
       "      <th>Sales</th>\n",
       "      <th>Customers</th>\n",
       "      <th>Open</th>\n",
       "      <th>Promo</th>\n",
       "      <th>StateHoliday</th>\n",
       "      <th>SchoolHoliday</th>\n",
       "      <th>Month</th>\n",
       "      <th>Quarter</th>\n",
       "      <th>Year</th>\n",
       "      <th>Day</th>\n",
       "      <th>Week</th>\n",
       "      <th>Season</th>\n",
       "    </tr>\n",
       "  </thead>\n",
       "  <tbody>\n",
       "    <tr>\n",
       "      <th>0</th>\n",
       "      <td>1</td>\n",
       "      <td>c</td>\n",
       "      <td>a</td>\n",
       "      <td>1270.0</td>\n",
       "      <td>0</td>\n",
       "      <td>5</td>\n",
       "      <td>2015-07-31</td>\n",
       "      <td>5263.0</td>\n",
       "      <td>555.0</td>\n",
       "      <td>1</td>\n",
       "      <td>1</td>\n",
       "      <td>0</td>\n",
       "      <td>1</td>\n",
       "      <td>7</td>\n",
       "      <td>3</td>\n",
       "      <td>2015</td>\n",
       "      <td>31</td>\n",
       "      <td>31</td>\n",
       "      <td>Summer</td>\n",
       "    </tr>\n",
       "    <tr>\n",
       "      <th>1</th>\n",
       "      <td>1</td>\n",
       "      <td>c</td>\n",
       "      <td>a</td>\n",
       "      <td>1270.0</td>\n",
       "      <td>0</td>\n",
       "      <td>4</td>\n",
       "      <td>2015-07-30</td>\n",
       "      <td>5020.0</td>\n",
       "      <td>546.0</td>\n",
       "      <td>1</td>\n",
       "      <td>1</td>\n",
       "      <td>0</td>\n",
       "      <td>1</td>\n",
       "      <td>7</td>\n",
       "      <td>3</td>\n",
       "      <td>2015</td>\n",
       "      <td>30</td>\n",
       "      <td>31</td>\n",
       "      <td>Summer</td>\n",
       "    </tr>\n",
       "    <tr>\n",
       "      <th>2</th>\n",
       "      <td>1</td>\n",
       "      <td>c</td>\n",
       "      <td>a</td>\n",
       "      <td>1270.0</td>\n",
       "      <td>0</td>\n",
       "      <td>3</td>\n",
       "      <td>2015-07-29</td>\n",
       "      <td>4782.0</td>\n",
       "      <td>523.0</td>\n",
       "      <td>1</td>\n",
       "      <td>1</td>\n",
       "      <td>0</td>\n",
       "      <td>1</td>\n",
       "      <td>7</td>\n",
       "      <td>3</td>\n",
       "      <td>2015</td>\n",
       "      <td>29</td>\n",
       "      <td>31</td>\n",
       "      <td>Summer</td>\n",
       "    </tr>\n",
       "    <tr>\n",
       "      <th>3</th>\n",
       "      <td>1</td>\n",
       "      <td>c</td>\n",
       "      <td>a</td>\n",
       "      <td>1270.0</td>\n",
       "      <td>0</td>\n",
       "      <td>2</td>\n",
       "      <td>2015-07-28</td>\n",
       "      <td>5011.0</td>\n",
       "      <td>560.0</td>\n",
       "      <td>1</td>\n",
       "      <td>1</td>\n",
       "      <td>0</td>\n",
       "      <td>1</td>\n",
       "      <td>7</td>\n",
       "      <td>3</td>\n",
       "      <td>2015</td>\n",
       "      <td>28</td>\n",
       "      <td>31</td>\n",
       "      <td>Summer</td>\n",
       "    </tr>\n",
       "    <tr>\n",
       "      <th>4</th>\n",
       "      <td>1</td>\n",
       "      <td>c</td>\n",
       "      <td>a</td>\n",
       "      <td>1270.0</td>\n",
       "      <td>0</td>\n",
       "      <td>1</td>\n",
       "      <td>2015-07-27</td>\n",
       "      <td>6102.0</td>\n",
       "      <td>612.0</td>\n",
       "      <td>1</td>\n",
       "      <td>1</td>\n",
       "      <td>0</td>\n",
       "      <td>1</td>\n",
       "      <td>7</td>\n",
       "      <td>3</td>\n",
       "      <td>2015</td>\n",
       "      <td>27</td>\n",
       "      <td>31</td>\n",
       "      <td>Summer</td>\n",
       "    </tr>\n",
       "  </tbody>\n",
       "</table>\n",
       "</div>"
      ],
      "text/plain": [
       "   Store StoreType Assortment  CompetitionDistance  Promo2  DayOfWeek  \\\n",
       "0      1         c          a               1270.0       0          5   \n",
       "1      1         c          a               1270.0       0          4   \n",
       "2      1         c          a               1270.0       0          3   \n",
       "3      1         c          a               1270.0       0          2   \n",
       "4      1         c          a               1270.0       0          1   \n",
       "\n",
       "        Date   Sales  Customers  Open  Promo StateHoliday  SchoolHoliday  \\\n",
       "0 2015-07-31  5263.0      555.0     1      1            0              1   \n",
       "1 2015-07-30  5020.0      546.0     1      1            0              1   \n",
       "2 2015-07-29  4782.0      523.0     1      1            0              1   \n",
       "3 2015-07-28  5011.0      560.0     1      1            0              1   \n",
       "4 2015-07-27  6102.0      612.0     1      1            0              1   \n",
       "\n",
       "   Month  Quarter  Year  Day  Week  Season  \n",
       "0      7        3  2015   31    31  Summer  \n",
       "1      7        3  2015   30    31  Summer  \n",
       "2      7        3  2015   29    31  Summer  \n",
       "3      7        3  2015   28    31  Summer  \n",
       "4      7        3  2015   27    31  Summer  "
      ]
     },
     "execution_count": 260,
     "metadata": {},
     "output_type": "execute_result"
    }
   ],
   "source": [
    "#LA variable \"date\" esta calificada como categorica. Pongamos la data como debe ser de tiempo.\n",
    "df['Date'] = pd.to_datetime(df['Date'], infer_datetime_format=True) #El método da el formato correcto en este caso. \n",
    "#la columa de fecha podemos expandar los datos en meses, cuartos, etc.. para una mejor clasificación por época del año.\n",
    "df[\"Month\"] = df[\"Date\"].dt.month\n",
    "df[\"Quarter\"] = df[\"Date\"].dt.quarter\n",
    "df[\"Year\"] = df[\"Date\"].dt.year\n",
    "df[\"Day\"] = df[\"Date\"].dt.day\n",
    "df[\"Week\"] = df[\"Date\"].dt.week\n",
    "df[\"Season\"] = np.where(df[\"Month\"].isin([3,4,5]),\"Spring\", np.where(df[\"Month\"].isin([6,7,8]), \"Summer\",\n",
    "                np.where(df[\"Month\"].isin([9,10,11]),\"Fall\", np.where(df[\"Month\"].isin([12,1,2]),\"Winter\",\"None\"))))              \n",
    "    \n",
    "df.head(5)"
   ]
  },
  {
   "cell_type": "code",
   "execution_count": 261,
   "id": "b6214e15",
   "metadata": {},
   "outputs": [
    {
     "name": "stdout",
     "output_type": "stream",
     "text": [
      "Verifiquemos las variables categoricas que nos quedan:\n",
      " Store                           int64\n",
      "StoreType                      object\n",
      "Assortment                     object\n",
      "CompetitionDistance           float64\n",
      "Promo2                          int64\n",
      "DayOfWeek                       int64\n",
      "Date                   datetime64[ns]\n",
      "Sales                         float64\n",
      "Customers                     float64\n",
      "Open                            int64\n",
      "Promo                           int64\n",
      "StateHoliday                   object\n",
      "SchoolHoliday                   int64\n",
      "Month                           int64\n",
      "Quarter                         int64\n",
      "Year                            int64\n",
      "Day                             int64\n",
      "Week                            int64\n",
      "Season                         object\n",
      "dtype: object\n",
      "La varible y sus categorias:\n",
      " a    431780\n",
      "d    227601\n",
      "c    121186\n",
      "b      5707\n",
      "Name: StoreType, dtype: int64\n",
      "La varible y sus categorias:\n",
      " a    438969\n",
      "c    344743\n",
      "b      2562\n",
      "Name: Assortment, dtype: int64\n",
      "La varible y sus categorias:\n",
      " 0    659432\n",
      "0    101775\n",
      "a     16356\n",
      "b      5395\n",
      "c      3316\n",
      "Name: StateHoliday, dtype: int64\n",
      "La varible y sus categorias:\n",
      " Spring    238203\n",
      "Summer    202822\n",
      "Winter    200549\n",
      "Fall      144700\n",
      "Name: Season, dtype: int64\n"
     ]
    }
   ],
   "source": [
    "#Al cambiar el parametro nos podemos dar cuenta que nuestra primera impresion de que \n",
    "#no hay diferencias entre las farmacias no es muy difernete por ser una distribución normal. \n",
    "#El tipo de tienda si afecta el resultado.\n",
    "#Ya hemos limpiando los datos, analizado sus formas y sus relaciones, y eliminado columnas que nos nos ayudan. \n",
    "#Ahora miremos cuantas variables categoricas quedan y como las trabajaremos \n",
    "print(\"Verifiquemos las variables categoricas que nos quedan:\\n\", df.dtypes )\n",
    "print(\"La varible y sus categorias:\\n\", df[\"StoreType\"].value_counts() )\n",
    "print(\"La varible y sus categorias:\\n\", df[\"Assortment\"].value_counts() )\n",
    "print(\"La varible y sus categorias:\\n\", df[\"StateHoliday\"].value_counts() )\n",
    "print(\"La varible y sus categorias:\\n\", df[\"Season\"].value_counts() )\n",
    "#Aqui observamos que la columna \"stateholiday\" no se ha categorizado del todo, aunque no tiene valores perdidos si tiene \n",
    "#ceros en lugar de la categoria, así que la elimineria pero la voy a dejar hasta categorizarla por ahora."
   ]
  },
  {
   "cell_type": "code",
   "execution_count": 262,
   "id": "40c708d5",
   "metadata": {},
   "outputs": [
    {
     "data": {
      "text/plain": [
       "1    684499\n",
       "0    101775\n",
       "Name: StateHoliday, dtype: int64"
      ]
     },
     "execution_count": 262,
     "metadata": {},
     "output_type": "execute_result"
    }
   ],
   "source": [
    "df[\"StateHoliday\"]= np.where(df[\"StateHoliday\"] == 0,0,1)\n",
    "df[\"StateHoliday\"].value_counts()"
   ]
  },
  {
   "cell_type": "code",
   "execution_count": 126,
   "id": "5b6a829a",
   "metadata": {},
   "outputs": [
    {
     "data": {
      "image/png": "[encoded data removed]",
      "text/plain": [
       "<Figure size 432x288 with 1 Axes>"
      ]
     },
     "metadata": {},
     "output_type": "display_data"
    }
   ],
   "source": [
    "import seaborn as sns \n",
    "sns.set(style=\"whitegrid\")\n",
    "#¨Podemos entender las ventas durante las estaciones del año. \n",
    "ax = sns.barplot(x=\"Season\", y=\"Sales\", data=df)"
   ]
  },
  {
   "cell_type": "code",
   "execution_count": 127,
   "id": "9949fee0",
   "metadata": {},
   "outputs": [
    {
     "data": {
      "image/png": "[encoded data removed]",
      "text/plain": [
       "<Figure size 432x288 with 1 Axes>"
      ]
     },
     "metadata": {},
     "output_type": "display_data"
    }
   ],
   "source": [
    "#Miremos la forma de las ventas y diferentes categorias\n",
    "ax = sns.barplot(x=\"Assortment\", y=\"Sales\", data=df)"
   ]
  },
  {
   "cell_type": "code",
   "execution_count": 128,
   "id": "7a97b391",
   "metadata": {},
   "outputs": [
    {
     "data": {
      "image/png": "[encoded data removed]",
      "text/plain": [
       "<Figure size 432x288 with 1 Axes>"
      ]
     },
     "metadata": {},
     "output_type": "display_data"
    }
   ],
   "source": [
    "#Miremos las ventas y los diferentes de tienda\n",
    "ax = sns.barplot(x=\"StoreType\", y=\"Sales\", data=df)"
   ]
  },
  {
   "cell_type": "code",
   "execution_count": 129,
   "id": "4c0f2b3a",
   "metadata": {},
   "outputs": [
    {
     "data": {
      "image/png": "[encoded data removed]",
      "text/plain": [
       "<Figure size 432x288 with 1 Axes>"
      ]
     },
     "metadata": {},
     "output_type": "display_data"
    }
   ],
   "source": [
    "#Seaborn calcula el promedio de las variables, si queremos mirar la cantidad hay que modificar el método.\n",
    "ax = sns.barplot(x=\"Season\", y=\"Sales\", data=df, estimator=np.size)"
   ]
  },
  {
   "cell_type": "code",
   "execution_count": 130,
   "id": "1c244ba6",
   "metadata": {},
   "outputs": [
    {
     "data": {
      "image/png": "[encoded data removed]",
      "text/plain": [
       "<Figure size 432x288 with 1 Axes>"
      ]
     },
     "metadata": {},
     "output_type": "display_data"
    }
   ],
   "source": [
    "ax = sns.barplot(x=\"Assortment\", y=\"Sales\", data=df, estimator=np.size)"
   ]
  },
  {
   "cell_type": "code",
   "execution_count": 131,
   "id": "edd7e2f7",
   "metadata": {},
   "outputs": [
    {
     "data": {
      "image/png": "[encoded data removed]",
      "text/plain": [
       "<Figure size 432x288 with 1 Axes>"
      ]
     },
     "metadata": {},
     "output_type": "display_data"
    }
   ],
   "source": [
    "ax = sns.barplot(x=\"StoreType\", y=\"Sales\", data=df, estimator=np.size)"
   ]
  },
  {
   "cell_type": "code",
   "execution_count": 263,
   "id": "85bc208e",
   "metadata": {},
   "outputs": [
    {
     "name": "stdout",
     "output_type": "stream",
     "text": [
      "\n",
      "\n",
      "Columns Name: StoreType\n",
      "************\n",
      "a : 0\n",
      "b : 1\n",
      "c : 2\n",
      "d : 3\n",
      "\n",
      "\n",
      "Columns Name: Assortment\n",
      "************\n",
      "a : 0\n",
      "b : 1\n",
      "c : 2\n",
      "\n",
      "\n",
      "Columns Name: Season\n",
      "************\n",
      "Fall : 0\n",
      "Spring : 1\n",
      "Summer : 2\n",
      "Winter : 3\n",
      "\n",
      "\n",
      "Columns Name: Year\n",
      "************\n",
      "2013 : 0\n",
      "2014 : 1\n",
      "2015 : 2\n"
     ]
    }
   ],
   "source": [
    "from sklearn.preprocessing import LabelEncoder\n",
    "encoder = LabelEncoder()\n",
    "columnas_categoricas=['StoreType','Assortment','Season','Year']\n",
    "\n",
    "for col in columnas_categoricas:    \n",
    "    print('\\n')\n",
    "    print('Columns Name: %s' %col)\n",
    "    print('************')\n",
    "    df[col] = df[[col]].apply(encoder.fit_transform)\n",
    "    for i in range(len(encoder.classes_)):\n",
    "        print(encoder.classes_[i],':', i)"
   ]
  },
  {
   "cell_type": "code",
   "execution_count": 271,
   "id": "e8e34d3b",
   "metadata": {},
   "outputs": [
    {
     "data": {
      "text/plain": [
       "(786274, 19)"
      ]
     },
     "execution_count": 271,
     "metadata": {},
     "output_type": "execute_result"
    }
   ],
   "source": [
    "from sklearn.preprocessing import OneHotEncoder\n",
    "encoder = OneHotEncoder()\n",
    "columnas_categoricas=['StoreType','Assortment','Season','Year']\n",
    "\n",
    "for col in columnas_categoricas:    \n",
    "    print('\\n')\n",
    "    print('Columns Name: %s' %col)\n",
    "    print('************')\n",
    "    df[col] = df[[col]].apply(encoder.fit_transform)\n",
    "    for i in range(len(encoder.classes_)):\n",
    "        print(encoder.classes_[i],':', i)\n",
    "        \n",
    "#print(\"Shape of Data:\",temp.shape)\n",
    "#print(\"Distinct Datatypes:\",temp.dtypes.unique())"
   ]
  },
  {
   "cell_type": "code",
   "execution_count": 276,
   "id": "368100ed",
   "metadata": {},
   "outputs": [
    {
     "name": "stdout",
     "output_type": "stream",
     "text": [
      "(786274, 17) (786274, 1)\n"
     ]
    }
   ],
   "source": [
    "X = df.loc[:, ['Store', 'StoreType', 'Assortment','CompetitionDistance', 'Promo2',\n",
    "       'DayOfWeek', 'Customers', 'Open', 'Promo',\n",
    "       'StateHoliday', 'SchoolHoliday', 'Month', 'Quarter', 'Year', 'Day',\n",
    "       'Week', 'Season']]\n",
    "y = df.loc[:, [\"Sales\"]]\n",
    "print( X.shape, y.shape)"
   ]
  },
  {
   "cell_type": "code",
   "execution_count": 277,
   "id": "5103855a",
   "metadata": {},
   "outputs": [
    {
     "name": "stdout",
     "output_type": "stream",
     "text": [
      "Tamaño de x_train: (566117, 17)\n",
      "Tamaño de x_val: (62902, 17)\n",
      "Tamaño de x_test: (157255, 17)\n",
      "Tamaño de y_train: (566117, 1)\n",
      "Tamaño de y_val: (62902, 1)\n",
      "Tamaño de y_test: (157255, 1)\n"
     ]
    }
   ],
   "source": [
    "from sklearn.model_selection import train_test_split\n",
    "#Primero se separan los datosn en un 80 - 20 \n",
    "x_train, x_test, y_train, y_test = train_test_split(X, y ,test_size=0.2,random_state=2018)\n",
    "#Com en keras se necesitan tres conjuntos de datos para entrenar separemos el train set para validar\n",
    "x_train, x_val, y_train, y_val = train_test_split(x_train, y_train,test_size=0.1,random_state=2018)\n",
    "#Revisar los tamaños seleccionados\n",
    "print(\"Tamaño de x_train:\",x_train.shape)\n",
    "print(\"Tamaño de x_val:\",x_val.shape)\n",
    "print(\"Tamaño de x_test:\",x_test.shape)\n",
    "print(\"Tamaño de y_train:\",y_train.shape)\n",
    "print(\"Tamaño de y_val:\",y_val.shape)\n",
    "print(\"Tamaño de y_test:\",y_test.shape)"
   ]
  },
  {
   "cell_type": "code",
   "execution_count": 268,
   "id": "80d14c41",
   "metadata": {},
   "outputs": [
    {
     "name": "stdout",
     "output_type": "stream",
     "text": [
      "Venta promedio de la nueva matriz : Sales    5295.717115\n",
      "dtype: float64\n"
     ]
    }
   ],
   "source": [
    "mean_sales = y_train.mean()\n",
    "print(\"Venta promedio de la nueva matriz :\",mean_sales)"
   ]
  },
  {
   "cell_type": "code",
   "execution_count": 269,
   "id": "a414c4f7",
   "metadata": {},
   "outputs": [
    {
     "name": "stdout",
     "output_type": "stream",
     "text": [
      "MAE para los datos de prueba: 2577.611763921999\n"
     ]
    }
   ],
   "source": [
    "print(\"MAE para los datos de prueba:\", abs(y_test - mean_sales).mean()[0])"
   ]
  },
  {
   "cell_type": "code",
   "execution_count": 278,
   "id": "72b1f0b3",
   "metadata": {},
   "outputs": [
    {
     "name": "stdout",
     "output_type": "stream",
     "text": [
      "Epoch 1/3\n",
      "8846/8846 [==============================] - 42s 5ms/step - loss: 831.0571 - mean_absolute_error: 831.0571 - val_loss: 752.7201 - val_mean_absolute_error: 752.7201\n",
      "Epoch 2/3\n",
      "8846/8846 [==============================] - 41s 5ms/step - loss: 719.6141 - mean_absolute_error: 719.6141 - val_loss: 707.1924 - val_mean_absolute_error: 707.1924\n",
      "Epoch 3/3\n",
      "8846/8846 [==============================] - 42s 5ms/step - loss: 693.8527 - mean_absolute_error: 693.8527 - val_loss: 691.3671 - val_mean_absolute_error: 691.3671\n"
     ]
    },
    {
     "data": {
      "text/plain": [
       "<keras.callbacks.History at 0x23d844bc100>"
      ]
     },
     "execution_count": 278,
     "metadata": {},
     "output_type": "execute_result"
    }
   ],
   "source": [
    "#Crear elmodelo en keras\n",
    "from keras.models import Sequential\n",
    "from keras.layers import Dense, Dropout\n",
    "model = Sequential()\n",
    "model.add(Dense(150,input_dim=17,activation=\"relu\"))\n",
    "model.add(Dense(1,activation = \"linear\"))\n",
    "model.compile(optimizer='adam',loss=\"mean_absolute_error\", metrics=[\"mean_absolute_error\"])\n",
    "model.fit(x_train,y_train, epochs=3,batch_size=64, validation_data=(x_val,y_val))"
   ]
  },
  {
   "cell_type": "code",
   "execution_count": 280,
   "id": "cdfbc459",
   "metadata": {},
   "outputs": [
    {
     "name": "stdout",
     "output_type": "stream",
     "text": [
      "4915/4915 [==============================] - 18s 4ms/step - loss: 685.4348 - mean_absolute_error: 685.4348\n",
      "Metric  loss : 685.43\n",
      "Metric  mean_absolute_error : 685.43\n"
     ]
    }
   ],
   "source": [
    "#Evaluar los datos de prueba.\n",
    "result = model.evaluate(x_test,y_test)\n",
    "for i in range(len(model.metrics_names)):\n",
    "    print(\"Metric \",model.metrics_names[i],\":\",str(round(result[i],2)))"
   ]
  },
  {
   "cell_type": "code",
   "execution_count": 281,
   "id": "b1f96403",
   "metadata": {},
   "outputs": [
    {
     "name": "stdout",
     "output_type": "stream",
     "text": [
      "Epoch 1/3\n",
      "8846/8846 [==============================] - 74s 8ms/step - loss: 1222619.3750 - mean_absolute_error: 752.3726 - val_loss: 1056767.7500 - val_mean_absolute_error: 722.2122\n",
      "Epoch 2/3\n",
      "8846/8846 [==============================] - 86s 10ms/step - loss: 1003751.6875 - mean_absolute_error: 688.3765 - val_loss: 1008366.8750 - val_mean_absolute_error: 692.1786\n",
      "Epoch 3/3\n",
      "8846/8846 [==============================] - 83s 9ms/step - loss: 969915.8125 - mean_absolute_error: 675.2106 - val_loss: 951854.1250 - val_mean_absolute_error: 664.6505\n",
      "4915/4915 [==============================] - 23s 5ms/step - loss: 942940.2500 - mean_absolute_error: 660.6961\n",
      "Metric  loss : 942940.25\n",
      "Metric  mean_absolute_error : 660.7\n"
     ]
    }
   ],
   "source": [
    "#Mejorando el modelo\n",
    "model = Sequential()\n",
    "model.add(Dense(150,input_dim = 17,activation=\"relu\"))\n",
    "model.add(Dense(150,activation=\"relu\"))\n",
    "model.add(Dense(150,activation=\"relu\"))\n",
    "model.add(Dense(1,activation = \"linear\"))\n",
    "model.compile(optimizer='adam',loss=\"mean_squared_error\",metrics=[\"mean_absolute_error\"])\n",
    "history = model.fit(x_train,y_train, validation_data=(x_val, y_val),epochs=3,batch_size=64)\n",
    "result = model.evaluate(x_test,y_test)\n",
    "for i in range(len(model.metrics_names)):\n",
    "    print(\"Metric \",model.metrics_names[i],\":\",str(round(result[i],2)))"
   ]
  },
  {
   "cell_type": "code",
   "execution_count": 282,
   "id": "95afdae7",
   "metadata": {},
   "outputs": [
    {
     "name": "stdout",
     "output_type": "stream",
     "text": [
      "Epoch 1/5\n",
      "8846/8846 [==============================] - 111s 12ms/step - loss: 1230698.7500 - mean_absolute_error: 755.0178 - val_loss: 1050284.5000 - val_mean_absolute_error: 715.6917\n",
      "Epoch 2/5\n",
      "8846/8846 [==============================] - 109s 12ms/step - loss: 1008652.4375 - mean_absolute_error: 690.0755 - val_loss: 998247.6875 - val_mean_absolute_error: 677.2601\n",
      "Epoch 3/5\n",
      "8846/8846 [==============================] - 96s 11ms/step - loss: 979480.8125 - mean_absolute_error: 678.0793 - val_loss: 938333.8125 - val_mean_absolute_error: 665.3095\n",
      "Epoch 4/5\n",
      "8846/8846 [==============================] - 111s 13ms/step - loss: 950026.0000 - mean_absolute_error: 666.4813 - val_loss: 920003.6250 - val_mean_absolute_error: 662.3773\n",
      "Epoch 5/5\n",
      "8846/8846 [==============================] - 114s 13ms/step - loss: 913502.9375 - mean_absolute_error: 653.1502 - val_loss: 991589.5000 - val_mean_absolute_error: 695.0386\n",
      "4915/4915 [==============================] - 32s 6ms/step - loss: 982791.6250 - mean_absolute_error: 691.6963\n",
      "Metric  loss : 982791.62\n",
      "Metric  mean_absolute_error : 691.7\n"
     ]
    }
   ],
   "source": [
    "#Mejorando el modelo\n",
    "model = Sequential()\n",
    "model.add(Dense(150,input_dim = 17,activation=\"relu\"))\n",
    "model.add(Dense(150,activation=\"relu\"))\n",
    "model.add(Dense(150,activation=\"relu\"))\n",
    "model.add(Dense(150,activation=\"relu\"))\n",
    "model.add(Dense(150,activation=\"relu\"))\n",
    "model.add(Dense(1,activation = \"linear\"))\n",
    "model.compile(optimizer='adam',loss=\"mean_squared_error\",metrics=[\"mean_absolute_error\"])\n",
    "model.fit(x_train,y_train, validation_data=(x_val,y_val), epochs=5,batch_size=64)\n",
    "result = model.evaluate(x_test,y_test)\n",
    "for i in range(len(model.metrics_names)):\n",
    "    print(\"Metric \",model.metrics_names[i],\":\",str(round(result[i],2)))"
   ]
  },
  {
   "cell_type": "code",
   "execution_count": 283,
   "id": "4e2a47aa",
   "metadata": {},
   "outputs": [
    {
     "name": "stdout",
     "output_type": "stream",
     "text": [
      "Epoch 1/5\n",
      "8846/8846 [==============================] - 119s 13ms/step - loss: 1194451.1250 - mean_absolute_error: 748.5118 - val_loss: 1043130.5000 - val_mean_absolute_error: 696.8441\n",
      "Epoch 2/5\n",
      "8846/8846 [==============================] - 119s 13ms/step - loss: 995218.5000 - mean_absolute_error: 686.9284 - val_loss: 976527.8125 - val_mean_absolute_error: 691.2936\n",
      "Epoch 3/5\n",
      "8846/8846 [==============================] - 124s 14ms/step - loss: 962582.0000 - mean_absolute_error: 674.3230 - val_loss: 916622.3125 - val_mean_absolute_error: 657.1542\n",
      "Epoch 4/5\n",
      "8846/8846 [==============================] - 111s 13ms/step - loss: 928432.0000 - mean_absolute_error: 662.1665 - val_loss: 888950.1250 - val_mean_absolute_error: 648.3039\n",
      "Epoch 5/5\n",
      "8846/8846 [==============================] - 111s 13ms/step - loss: 899338.6250 - mean_absolute_error: 652.4841 - val_loss: 919018.9375 - val_mean_absolute_error: 653.8501\n",
      "4915/4915 [==============================] - 38s 8ms/step - loss: 911971.4375 - mean_absolute_error: 650.2743\n",
      "Metric  loss : 911971.44\n",
      "Metric  mean_absolute_error : 650.27\n"
     ]
    }
   ],
   "source": [
    "#Aumentado el numero de beuronas\n",
    "model = Sequential()\n",
    "model.add(Dense(350,input_dim = 17,activation=\"relu\"))\n",
    "model.add(Dense(350,activation=\"relu\"))\n",
    "model.add(Dense(1,activation = \"linear\"))\n",
    "model.compile(optimizer='adam',loss=\"mean_squared_error\",metrics=[\"mean_absolute_error\"])\n",
    "model.fit(x_train,y_train, validation_data=(x_val,y_val), epochs=5,batch_size=64)\n",
    "result = model.evaluate(x_test,y_test)\n",
    "for i in range(len(model.metrics_names)):\n",
    "    print(\"Metric \",model.metrics_names[i],\":\", str(round(result[i],2)))"
   ]
  },
  {
   "cell_type": "code",
   "execution_count": 284,
   "id": "64c4ae9f",
   "metadata": {},
   "outputs": [
    {
     "name": "stdout",
     "output_type": "stream",
     "text": [
      "Epoch 1/5\n",
      "8846/8846 [==============================] - 329s 37ms/step - loss: 1191763.0000 - mean_absolute_error: 745.8408 - val_loss: 1034077.9375 - val_mean_absolute_error: 710.4484\n",
      "Epoch 2/5\n",
      "8846/8846 [==============================] - 320s 36ms/step - loss: 1006229.1875 - mean_absolute_error: 687.8307 - val_loss: 981360.2500 - val_mean_absolute_error: 685.3764\n",
      "Epoch 3/5\n",
      "8846/8846 [==============================] - 317s 36ms/step - loss: 962273.2500 - mean_absolute_error: 671.3411 - val_loss: 1027475.4375 - val_mean_absolute_error: 715.0392\n",
      "Epoch 4/5\n",
      "8846/8846 [==============================] - 319s 36ms/step - loss: 916758.1875 - mean_absolute_error: 654.2156 - val_loss: 877215.6875 - val_mean_absolute_error: 642.7141\n",
      "Epoch 5/5\n",
      "8846/8846 [==============================] - 320s 36ms/step - loss: 865093.1250 - mean_absolute_error: 634.3331 - val_loss: 815715.6875 - val_mean_absolute_error: 612.3518\n",
      "4915/4915 [==============================] - 50s 10ms/step - loss: 813020.1250 - mean_absolute_error: 609.9435\n",
      "Metric  loss : 813020.12\n",
      "Metric  mean_absolute_error : 609.94\n"
     ]
    }
   ],
   "source": [
    "from keras.callbacks import History\n",
    "history = History()\n",
    "model = Sequential()\n",
    "model.add(Dense(350,input_dim = 17,activation=\"relu\"))\n",
    "model.add(Dense(350,activation=\"relu\"))\n",
    "model.add(Dense(350,activation=\"relu\"))\n",
    "model.add(Dense(350,activation=\"relu\"))\n",
    "model.add(Dense(350,activation=\"relu\"))\n",
    "model.add(Dense(1,activation = \"linear\"))\n",
    "model.compile(optimizer='adam',loss=\"mean_squared_error\",metrics=[\"mean_absolute_error\"])\n",
    "model.fit(x_train,y_train, validation_data=(x_val,y_val),epochs=5,batch_size=64,callbacks=[history])\n",
    "result = model.evaluate(x_test,y_test)\n",
    "for i in range(len(model.metrics_names)):\n",
    "    print(\"Metric \",model.metrics_names[i],\":\",str(round(result[i],2)))"
   ]
  },
  {
   "cell_type": "code",
   "execution_count": 285,
   "id": "a315cfc4",
   "metadata": {},
   "outputs": [
    {
     "data": {
      "image/png": "[encoded data removed]",
      "text/plain": [
       "<Figure size 432x288 with 1 Axes>"
      ]
     },
     "metadata": {
      "needs_background": "light"
     },
     "output_type": "display_data"
    }
   ],
   "source": [
    "\n",
    "plt.plot(history.history['loss'])\n",
    "plt.plot(history.history['val_loss'])\n",
    "plt.title(\"Model's Training & Validation loss across epochs\")\n",
    "plt.ylabel('Loss')\n",
    "plt.xlabel('Epochs')\n",
    "plt.legend(['Train', 'Validation'], loc='upper right')\n",
    "plt.show()"
   ]
  },
  {
   "cell_type": "code",
   "execution_count": 286,
   "id": "13b16fa8",
   "metadata": {},
   "outputs": [
    {
     "name": "stdout",
     "output_type": "stream",
     "text": [
      "        Actual Sales  Predicted Sales\n",
      "13825            0.0         0.015545\n",
      "752766           0.0         0.015545\n",
      "642359        8432.0      9087.894531\n",
      "147019        8247.0      6913.180664\n",
      "865574        4747.0      5363.104004\n",
      "436332        5437.0      6581.959961\n",
      "93882         5109.0      5374.132324\n",
      "564872        9593.0      8709.191406\n",
      "623437        8420.0      6720.730469\n",
      "758271           0.0         0.015545\n",
      "MSE : 813020.0292173647\n",
      "MAE : 609.9435279535764\n"
     ]
    }
   ],
   "source": [
    "\n",
    "y_test[\"Prediction\"] = model.predict(x_test)\n",
    "y_test.columns = [\"Actual Sales\",\"Predicted Sales\"]\n",
    "print(y_test.head(10))\n",
    "\n",
    "from sklearn.metrics import mean_squared_error, mean_absolute_error\n",
    "print(\"MSE :\",mean_squared_error(y_test[\"Actual Sales\"].\n",
    "values,y_test[\"Predicted Sales\"].values))\n",
    "print(\"MAE :\",mean_absolute_error(y_test[\"Actual Sales\"].\n",
    "values,y_test[\"Predicted Sales\"].values))"
   ]
  },
  {
   "cell_type": "code",
   "execution_count": null,
   "id": "18cce111",
   "metadata": {},
   "outputs": [],
   "source": []
  }
 ],
 "metadata": {
  "kernelspec": {
   "display_name": "Python 3 (ipykernel)",
   "language": "python",
   "name": "python3"
  },
  "language_info": {
   "codemirror_mode": {
    "name": "ipython",
    "version": 3
   },
   "file_extension": ".py",
   "mimetype": "text/x-python",
   "name": "python",
   "nbconvert_exporter": "python",
   "pygments_lexer": "ipython3",
   "version": "3.10.2"
  }
 },
 "nbformat": 4,
 "nbformat_minor": 5
}
