{
 "cells": [
  {
   "cell_type": "code",
   "execution_count": 50,
   "id": "dcfbd7ce",
   "metadata": {},
   "outputs": [],
   "source": [
    "import pandas as pd\n",
    "import numpy as np\n",
    "import matplotlib.pyplot as plt\n",
    "import seaborn as sns\n",
    "%matplotlib inline"
   ]
  },
  {
   "cell_type": "code",
   "execution_count": 51,
   "id": "455b2518",
   "metadata": {},
   "outputs": [
    {
     "name": "stdout",
     "output_type": "stream",
     "text": [
      "Tamaño : (2197291, 15)\n",
      "Tamaño: (189118, 41)\n"
     ]
    }
   ],
   "source": [
    "df = pd.read_csv(\"act_train.csv\")\n",
    "people = pd.read_csv(\"people.csv\")\n",
    "print(\"Tamaño :\",df.shape)\n",
    "print(\"Tamaño:\",people.shape)"
   ]
  },
  {
   "cell_type": "code",
   "execution_count": 52,
   "id": "22a891f5",
   "metadata": {},
   "outputs": [
    {
     "data": {
      "text/html": [
       "<div>\n",
       "<style scoped>\n",
       "    .dataframe tbody tr th:only-of-type {\n",
       "        vertical-align: middle;\n",
       "    }\n",
       "\n",
       "    .dataframe tbody tr th {\n",
       "        vertical-align: top;\n",
       "    }\n",
       "\n",
       "    .dataframe thead th {\n",
       "        text-align: right;\n",
       "    }\n",
       "</style>\n",
       "<table border=\"1\" class=\"dataframe\">\n",
       "  <thead>\n",
       "    <tr style=\"text-align: right;\">\n",
       "      <th></th>\n",
       "      <th>people_id</th>\n",
       "      <th>activity_id</th>\n",
       "      <th>date</th>\n",
       "      <th>activity_category</th>\n",
       "      <th>char_1</th>\n",
       "      <th>char_2</th>\n",
       "      <th>char_3</th>\n",
       "      <th>char_4</th>\n",
       "      <th>char_5</th>\n",
       "      <th>char_6</th>\n",
       "      <th>char_7</th>\n",
       "      <th>char_8</th>\n",
       "      <th>char_9</th>\n",
       "      <th>char_10</th>\n",
       "      <th>outcome</th>\n",
       "    </tr>\n",
       "  </thead>\n",
       "  <tbody>\n",
       "    <tr>\n",
       "      <th>0</th>\n",
       "      <td>ppl_100</td>\n",
       "      <td>act2_1734928</td>\n",
       "      <td>2023-08-26</td>\n",
       "      <td>type 4</td>\n",
       "      <td>NaN</td>\n",
       "      <td>NaN</td>\n",
       "      <td>NaN</td>\n",
       "      <td>NaN</td>\n",
       "      <td>NaN</td>\n",
       "      <td>NaN</td>\n",
       "      <td>NaN</td>\n",
       "      <td>NaN</td>\n",
       "      <td>NaN</td>\n",
       "      <td>type 76</td>\n",
       "      <td>0</td>\n",
       "    </tr>\n",
       "    <tr>\n",
       "      <th>1</th>\n",
       "      <td>ppl_100</td>\n",
       "      <td>act2_2434093</td>\n",
       "      <td>2022-09-27</td>\n",
       "      <td>type 2</td>\n",
       "      <td>NaN</td>\n",
       "      <td>NaN</td>\n",
       "      <td>NaN</td>\n",
       "      <td>NaN</td>\n",
       "      <td>NaN</td>\n",
       "      <td>NaN</td>\n",
       "      <td>NaN</td>\n",
       "      <td>NaN</td>\n",
       "      <td>NaN</td>\n",
       "      <td>type 1</td>\n",
       "      <td>0</td>\n",
       "    </tr>\n",
       "  </tbody>\n",
       "</table>\n",
       "</div>"
      ],
      "text/plain": [
       "  people_id   activity_id        date activity_category char_1 char_2 char_3  \\\n",
       "0   ppl_100  act2_1734928  2023-08-26            type 4    NaN    NaN    NaN   \n",
       "1   ppl_100  act2_2434093  2022-09-27            type 2    NaN    NaN    NaN   \n",
       "\n",
       "  char_4 char_5 char_6 char_7 char_8 char_9  char_10  outcome  \n",
       "0    NaN    NaN    NaN    NaN    NaN    NaN  type 76        0  \n",
       "1    NaN    NaN    NaN    NaN    NaN    NaN   type 1        0  "
      ]
     },
     "execution_count": 52,
     "metadata": {},
     "output_type": "execute_result"
    }
   ],
   "source": [
    "#Verifiquemos la forma del datdaframe\n",
    "df.head(2)"
   ]
  },
  {
   "cell_type": "code",
   "execution_count": 53,
   "id": "a76ecc65",
   "metadata": {},
   "outputs": [
    {
     "data": {
      "text/plain": [
       "people_id             0.000000\n",
       "activity_id           0.000000\n",
       "date                  0.000000\n",
       "activity_category     0.000000\n",
       "char_1               92.826849\n",
       "char_2               92.826849\n",
       "char_3               92.826849\n",
       "char_4               92.826849\n",
       "char_5               92.826849\n",
       "char_6               92.826849\n",
       "char_7               92.826849\n",
       "char_8               92.826849\n",
       "char_9               92.826849\n",
       "char_10               7.173151\n",
       "outcome               0.000000\n",
       "dtype: float64"
      ]
     },
     "execution_count": 53,
     "metadata": {},
     "output_type": "execute_result"
    }
   ],
   "source": [
    "#MIremos cuanta información nos es util.\n",
    "df.isnull().sum()/df.shape[0] *100\n",
    "#las columnaas char_1 hasta cchar_9 tienen demasiados datos perdidos. En char_10 se pude interpolar."
   ]
  },
  {
   "cell_type": "code",
   "execution_count": 54,
   "id": "870f37df",
   "metadata": {},
   "outputs": [
    {
     "name": "stdout",
     "output_type": "stream",
     "text": [
      "Las columnas que se remueven: ['char_1', 'char_2', 'char_3', 'char_4', 'char_5', 'char_6', 'char_7', 'char_8', 'char_9']\n",
      "Forma de la matriz: (2197291, 6)\n"
     ]
    },
    {
     "data": {
      "text/html": [
       "<div>\n",
       "<style scoped>\n",
       "    .dataframe tbody tr th:only-of-type {\n",
       "        vertical-align: middle;\n",
       "    }\n",
       "\n",
       "    .dataframe tbody tr th {\n",
       "        vertical-align: top;\n",
       "    }\n",
       "\n",
       "    .dataframe thead th {\n",
       "        text-align: right;\n",
       "    }\n",
       "</style>\n",
       "<table border=\"1\" class=\"dataframe\">\n",
       "  <thead>\n",
       "    <tr style=\"text-align: right;\">\n",
       "      <th></th>\n",
       "      <th>people_id</th>\n",
       "      <th>activity_id</th>\n",
       "      <th>activity_date</th>\n",
       "      <th>activity_category</th>\n",
       "      <th>activity_type</th>\n",
       "      <th>outcome</th>\n",
       "    </tr>\n",
       "  </thead>\n",
       "  <tbody>\n",
       "    <tr>\n",
       "      <th>0</th>\n",
       "      <td>ppl_100</td>\n",
       "      <td>act2_1734928</td>\n",
       "      <td>2023-08-26</td>\n",
       "      <td>type 4</td>\n",
       "      <td>type 76</td>\n",
       "      <td>0</td>\n",
       "    </tr>\n",
       "    <tr>\n",
       "      <th>1</th>\n",
       "      <td>ppl_100</td>\n",
       "      <td>act2_2434093</td>\n",
       "      <td>2022-09-27</td>\n",
       "      <td>type 2</td>\n",
       "      <td>type 1</td>\n",
       "      <td>0</td>\n",
       "    </tr>\n",
       "  </tbody>\n",
       "</table>\n",
       "</div>"
      ],
      "text/plain": [
       "  people_id   activity_id activity_date activity_category activity_type  \\\n",
       "0   ppl_100  act2_1734928    2023-08-26            type 4       type 76   \n",
       "1   ppl_100  act2_2434093    2022-09-27            type 2        type 1   \n",
       "\n",
       "   outcome  \n",
       "0        0  \n",
       "1        0  "
      ]
     },
     "execution_count": 54,
     "metadata": {},
     "output_type": "execute_result"
    }
   ],
   "source": [
    "#Hay que hacer una lista con las columnas que se van a remover.\n",
    "columnas_a_remover = [\"char_\"+str(x) for x in np.arange(1,10)]\n",
    "print(\"Las columnas que se remueven:\",columnas_a_remover)\n",
    "#Eliminar las columnas\n",
    "df = df.drop(columnas_a_remover, axis=1)\n",
    "#Se renobran las columnas para evitar un conflicto al unirse con el otro dataframe.\n",
    "df = df.rename(columns={\"date\":\"activity_date\",\"char_10\":\"activity_type\"})\n",
    "#Aquí interpolamos los datos que faltan en la columan char_10 con la moda.\n",
    "df[\"activity_type\"] = df[\"activity_type\"].fillna(df[\"activity_type\"].mode()[0])\n",
    "#Miremos la forma de la matriz con los cambios\n",
    "print(\"Forma de la matriz:\",df.shape)\n",
    "df.head(2)"
   ]
  },
  {
   "cell_type": "code",
   "execution_count": 55,
   "id": "9cb52558",
   "metadata": {},
   "outputs": [
    {
     "data": {
      "text/html": [
       "<div>\n",
       "<style scoped>\n",
       "    .dataframe tbody tr th:only-of-type {\n",
       "        vertical-align: middle;\n",
       "    }\n",
       "\n",
       "    .dataframe tbody tr th {\n",
       "        vertical-align: top;\n",
       "    }\n",
       "\n",
       "    .dataframe thead th {\n",
       "        text-align: right;\n",
       "    }\n",
       "</style>\n",
       "<table border=\"1\" class=\"dataframe\">\n",
       "  <thead>\n",
       "    <tr style=\"text-align: right;\">\n",
       "      <th></th>\n",
       "      <th>people_id</th>\n",
       "      <th>char_1</th>\n",
       "      <th>group_1</th>\n",
       "      <th>char_2</th>\n",
       "      <th>date</th>\n",
       "      <th>char_3</th>\n",
       "      <th>char_4</th>\n",
       "      <th>char_5</th>\n",
       "      <th>char_6</th>\n",
       "      <th>char_7</th>\n",
       "      <th>...</th>\n",
       "      <th>char_29</th>\n",
       "      <th>char_30</th>\n",
       "      <th>char_31</th>\n",
       "      <th>char_32</th>\n",
       "      <th>char_33</th>\n",
       "      <th>char_34</th>\n",
       "      <th>char_35</th>\n",
       "      <th>char_36</th>\n",
       "      <th>char_37</th>\n",
       "      <th>char_38</th>\n",
       "    </tr>\n",
       "  </thead>\n",
       "  <tbody>\n",
       "    <tr>\n",
       "      <th>0</th>\n",
       "      <td>ppl_100</td>\n",
       "      <td>type 2</td>\n",
       "      <td>group 17304</td>\n",
       "      <td>type 2</td>\n",
       "      <td>2021-06-29</td>\n",
       "      <td>type 5</td>\n",
       "      <td>type 5</td>\n",
       "      <td>type 5</td>\n",
       "      <td>type 3</td>\n",
       "      <td>type 11</td>\n",
       "      <td>...</td>\n",
       "      <td>False</td>\n",
       "      <td>True</td>\n",
       "      <td>True</td>\n",
       "      <td>False</td>\n",
       "      <td>False</td>\n",
       "      <td>True</td>\n",
       "      <td>True</td>\n",
       "      <td>True</td>\n",
       "      <td>False</td>\n",
       "      <td>36</td>\n",
       "    </tr>\n",
       "    <tr>\n",
       "      <th>1</th>\n",
       "      <td>ppl_100002</td>\n",
       "      <td>type 2</td>\n",
       "      <td>group 8688</td>\n",
       "      <td>type 3</td>\n",
       "      <td>2021-01-06</td>\n",
       "      <td>type 28</td>\n",
       "      <td>type 9</td>\n",
       "      <td>type 5</td>\n",
       "      <td>type 3</td>\n",
       "      <td>type 11</td>\n",
       "      <td>...</td>\n",
       "      <td>False</td>\n",
       "      <td>True</td>\n",
       "      <td>True</td>\n",
       "      <td>True</td>\n",
       "      <td>True</td>\n",
       "      <td>True</td>\n",
       "      <td>True</td>\n",
       "      <td>True</td>\n",
       "      <td>False</td>\n",
       "      <td>76</td>\n",
       "    </tr>\n",
       "  </tbody>\n",
       "</table>\n",
       "<p>2 rows × 41 columns</p>\n",
       "</div>"
      ],
      "text/plain": [
       "    people_id  char_1      group_1  char_2        date   char_3  char_4  \\\n",
       "0     ppl_100  type 2  group 17304  type 2  2021-06-29   type 5  type 5   \n",
       "1  ppl_100002  type 2   group 8688  type 3  2021-01-06  type 28  type 9   \n",
       "\n",
       "   char_5  char_6   char_7  ... char_29 char_30  char_31  char_32  char_33  \\\n",
       "0  type 5  type 3  type 11  ...   False    True     True    False    False   \n",
       "1  type 5  type 3  type 11  ...   False    True     True     True     True   \n",
       "\n",
       "   char_34  char_35  char_36  char_37  char_38  \n",
       "0     True     True     True    False       36  \n",
       "1     True     True     True    False       76  \n",
       "\n",
       "[2 rows x 41 columns]"
      ]
     },
     "execution_count": 55,
     "metadata": {},
     "output_type": "execute_result"
    }
   ],
   "source": [
    "#Ahora analicemos los datos de las personas.\n",
    "people.head(2)"
   ]
  },
  {
   "cell_type": "code",
   "execution_count": 56,
   "id": "261db3f4",
   "metadata": {},
   "outputs": [
    {
     "data": {
      "text/plain": [
       "0"
      ]
     },
     "execution_count": 56,
     "metadata": {},
     "output_type": "execute_result"
    }
   ],
   "source": [
    "#Igual verifiquemos cuantos datos estan perdidos.\n",
    "people.isnull().sum().sum()\n",
    "#Pues no hay nada que interpolar o elimnar. "
   ]
  },
  {
   "cell_type": "code",
   "execution_count": 57,
   "id": "567f3abf",
   "metadata": {},
   "outputs": [
    {
     "name": "stdout",
     "output_type": "stream",
     "text": [
      "Forma de la matriz: (2197291, 46)\n"
     ]
    }
   ],
   "source": [
    "#Vamos a fucionar ambas matrices.\n",
    "df = df.merge(people,on=[\"people_id\"],how=\"inner\")\n",
    "print(\"Forma de la matriz:\", df.shape)"
   ]
  },
  {
   "cell_type": "code",
   "execution_count": 58,
   "id": "2a98677d",
   "metadata": {},
   "outputs": [
    {
     "name": "stdout",
     "output_type": "stream",
     "text": [
      "Los valores a predecir son :\n",
      " [0 1]\n",
      "Como esta distribuian las variables a predecir: \n",
      " 0    55.60456\n",
      "1    44.39544\n",
      "Name: outcome, dtype: float64\n"
     ]
    }
   ],
   "source": [
    "print(\"Los valores a predecir son :\\n\",df[\"outcome\"].unique())\n",
    "print(\"Como esta distribuian las variables a predecir: \\n\", df[\"outcome\"].value_counts()/df.shape[0] *100 )"
   ]
  },
  {
   "cell_type": "code",
   "execution_count": 59,
   "id": "1849e09f",
   "metadata": {},
   "outputs": [
    {
     "name": "stdout",
     "output_type": "stream",
     "text": [
      "Distinct DataTypes: [dtype('O') dtype('int64') dtype('bool')]\n"
     ]
    }
   ],
   "source": [
    "#Revisando los tipos de datos con los que trabajaremos\n",
    "print(\"Distinct DataTypes:\", df.dtypes.unique() ) "
   ]
  },
  {
   "cell_type": "code",
   "execution_count": 60,
   "id": "c649e759",
   "metadata": {},
   "outputs": [
    {
     "name": "stdout",
     "output_type": "stream",
     "text": [
      "Nombre de las columnas que se categorizan como 1/0:\n",
      " Index(['char_10', 'char_11', 'char_12', 'char_13', 'char_14', 'char_15',\n",
      "       'char_16', 'char_17', 'char_18', 'char_19', 'char_20', 'char_21',\n",
      "       'char_22', 'char_23', 'char_24', 'char_25', 'char_26', 'char_27',\n",
      "       'char_28', 'char_29', 'char_30', 'char_31', 'char_32', 'char_33',\n",
      "       'char_34', 'char_35', 'char_36', 'char_37'],\n",
      "      dtype='object')\n"
     ]
    }
   ],
   "source": [
    "columnas_booleanas = df.select_dtypes(\"bool\")\n",
    "print( \"Nombre de las columnas que se categorizan como 1/0:\\n\", columnas_booleanas.columns )\n",
    "#Convertir los valores\n",
    "for col in columnas_booleanas:\n",
    "    df[col] = np.where(df[col] == True,1,0)"
   ]
  },
  {
   "cell_type": "code",
   "execution_count": 61,
   "id": "c0be2f36",
   "metadata": {},
   "outputs": [
    {
     "name": "stdout",
     "output_type": "stream",
     "text": [
      "people_id column has : 151295 distinct values\n",
      "activity_id column has : 2197291 distinct values\n",
      "activity_date column has : 411 distinct values\n",
      "activity_category column has : 7 distinct values\n",
      "activity_type column has : 6515 distinct values\n",
      "char_1 column has : 2 distinct values\n",
      "group_1 column has : 29899 distinct values\n",
      "char_2 column has : 3 distinct values\n",
      "date column has : 1196 distinct values\n",
      "char_3 column has : 43 distinct values\n",
      "char_4 column has : 25 distinct values\n",
      "char_5 column has : 9 distinct values\n",
      "char_6 column has : 7 distinct values\n",
      "char_7 column has : 25 distinct values\n",
      "char_8 column has : 8 distinct values\n",
      "char_9 column has : 9 distinct values\n"
     ]
    }
   ],
   "source": [
    "#Ahora trabajemos con las columnas categoricas\n",
    "columnas_categoricas = df.select_dtypes(\"object\")\n",
    "#Revisemos los distintos valores que se deberan recodificar\n",
    "for col in columnas_categoricas:\n",
    "    print(col + \" column has :\", str( len( df[col].unique())) + \" distinct values\" )"
   ]
  },
  {
   "cell_type": "code",
   "execution_count": 62,
   "id": "2123f8b0",
   "metadata": {},
   "outputs": [
    {
     "name": "stderr",
     "output_type": "stream",
     "text": [
      "C:\\Users\\EQUIPO\\AppData\\Local\\Temp\\ipykernel_10696\\4134797014.py:6: FutureWarning: Series.dt.weekofyear and Series.dt.week have been deprecated.  Please use Series.dt.isocalendar().week instead.\n",
      "  df[\"Week\"] = df[\"date\"].dt.week\n"
     ]
    }
   ],
   "source": [
    "#Convertir la variable date de object a datetime. Separar esas fechas por categoria mes, dia, etc..\n",
    "df[\"date\"] = pd.to_datetime(df[\"date\"])\n",
    "df[\"Year\"] = df[\"date\"].dt.year\n",
    "df[\"Month\"] = df[\"date\"].dt.month\n",
    "df[\"Quarter\"] = df[\"date\"].dt.quarter\n",
    "df[\"Week\"] = df[\"date\"].dt.week\n",
    "df[\"WeekDay\"] = df[\"date\"].dt.weekday\n",
    "df[\"Day\"] = df[\"date\"].dt.day\n",
    "\n",
    "#Vamos a quitar la columna de fecha por que no nos ayud al momento de entrenar la red.\n",
    "del(df[\"date\"])\n",
    "del(df[\"activity_date\"])"
   ]
  },
  {
   "cell_type": "code",
   "execution_count": 63,
   "id": "55b0da3d",
   "metadata": {},
   "outputs": [
    {
     "name": "stdout",
     "output_type": "stream",
     "text": [
      "  people_id activity_type   activity_id      group_1\n",
      "0   ppl_100       type 76  act2_1734928  group 17304\n",
      "1   ppl_100        type 1  act2_2434093  group 17304\n",
      "2   ppl_100        type 1  act2_3404049  group 17304\n",
      "3   ppl_100        type 1  act2_3651215  group 17304\n",
      "4   ppl_100        type 1  act2_4109017  group 17304\n"
     ]
    }
   ],
   "source": []
  },
  {
   "cell_type": "code",
   "execution_count": 67,
   "id": "6f783544",
   "metadata": {},
   "outputs": [
    {
     "name": "stdout",
     "output_type": "stream",
     "text": [
      "   people_id  activity_type  activity_id  group_1\n",
      "0      100.0             76    1734928.0    17304\n",
      "1      100.0              1    2434093.0    17304\n",
      "2      100.0              1    3404049.0    17304\n",
      "3      100.0              1    3651215.0    17304\n",
      "4      100.0              1    4109017.0    17304\n",
      "   people_id  activity_type  activity_id  group_1\n",
      "0      100.0             76    1734928.0    17304\n",
      "1      100.0              1    2434093.0    17304\n",
      "2      100.0              1    3404049.0    17304\n",
      "3      100.0              1    3651215.0    17304\n",
      "4      100.0              1    4109017.0    17304\n"
     ]
    }
   ],
   "source": [
    "#Estas columnas se tienen que depurar para quedarnos con los datos numericos.\n",
    "print(df[[\"people_id\",\"activity_type\",\"activity_id\", \"group_1\"]].head())\n",
    "\n",
    "df.people_id = df.people_id.apply(lambda x:x.split(\"_\")[1])\n",
    "df.people_id = pd.to_numeric(df.people_id)\n",
    "\n",
    "df.activity_id = df.activity_id.apply(lambda x:x.split(\"_\")[1])\n",
    "df.activity_id = pd.to_numeric(df.activity_id)\n",
    "\n",
    "df.group_1 = df.group_1.apply(lambda x:x.split(\" \")[1])\n",
    "df.group_1 = pd.to_numeric(df.group_1)\n",
    "\n",
    "df.activity_type = df.activity_type.apply(lambda x:x.split(\" \")[1])\n",
    "df.activity_type = pd.to_numeric(df.activity_type)\n",
    "\n",
    "print(df[[\"people_id\",\"activity_type\",\"activity_id\", \"group_1\"]].head())"
   ]
  },
  {
   "cell_type": "code",
   "execution_count": 69,
   "id": "791dff3c",
   "metadata": {},
   "outputs": [
    {
     "name": "stdout",
     "output_type": "stream",
     "text": [
      "\n",
      "\n",
      "Columns Name: activity_category\n",
      "************\n",
      "type 1 : 0\n",
      "type 2 : 1\n",
      "type 3 : 2\n",
      "type 4 : 3\n",
      "type 5 : 4\n",
      "type 6 : 5\n",
      "type 7 : 6\n",
      "\n",
      "\n",
      "Columns Name: char_1\n",
      "************\n",
      "type 1 : 0\n",
      "type 2 : 1\n",
      "\n",
      "\n",
      "Columns Name: char_2\n",
      "************\n",
      "type 1 : 0\n",
      "type 2 : 1\n",
      "type 3 : 2\n",
      "\n",
      "\n",
      "Columns Name: char_3\n",
      "************\n",
      "type 1 : 0\n",
      "type 10 : 1\n",
      "type 11 : 2\n",
      "type 12 : 3\n",
      "type 13 : 4\n",
      "type 14 : 5\n",
      "type 15 : 6\n",
      "type 16 : 7\n",
      "type 17 : 8\n",
      "type 18 : 9\n",
      "type 19 : 10\n",
      "type 2 : 11\n",
      "type 20 : 12\n",
      "type 21 : 13\n",
      "type 22 : 14\n",
      "type 23 : 15\n",
      "type 24 : 16\n",
      "type 25 : 17\n",
      "type 26 : 18\n",
      "type 27 : 19\n",
      "type 28 : 20\n",
      "type 29 : 21\n",
      "type 3 : 22\n",
      "type 30 : 23\n",
      "type 31 : 24\n",
      "type 32 : 25\n",
      "type 33 : 26\n",
      "type 34 : 27\n",
      "type 35 : 28\n",
      "type 36 : 29\n",
      "type 37 : 30\n",
      "type 38 : 31\n",
      "type 39 : 32\n",
      "type 4 : 33\n",
      "type 40 : 34\n",
      "type 41 : 35\n",
      "type 42 : 36\n",
      "type 44 : 37\n",
      "type 5 : 38\n",
      "type 6 : 39\n",
      "type 7 : 40\n",
      "type 8 : 41\n",
      "type 9 : 42\n",
      "\n",
      "\n",
      "Columns Name: char_4\n",
      "************\n",
      "type 1 : 0\n",
      "type 10 : 1\n",
      "type 11 : 2\n",
      "type 12 : 3\n",
      "type 13 : 4\n",
      "type 14 : 5\n",
      "type 15 : 6\n",
      "type 16 : 7\n",
      "type 17 : 8\n",
      "type 18 : 9\n",
      "type 19 : 10\n",
      "type 2 : 11\n",
      "type 20 : 12\n",
      "type 21 : 13\n",
      "type 22 : 14\n",
      "type 23 : 15\n",
      "type 24 : 16\n",
      "type 25 : 17\n",
      "type 3 : 18\n",
      "type 4 : 19\n",
      "type 5 : 20\n",
      "type 6 : 21\n",
      "type 7 : 22\n",
      "type 8 : 23\n",
      "type 9 : 24\n",
      "\n",
      "\n",
      "Columns Name: char_5\n",
      "************\n",
      "type 1 : 0\n",
      "type 2 : 1\n",
      "type 3 : 2\n",
      "type 4 : 3\n",
      "type 5 : 4\n",
      "type 6 : 5\n",
      "type 7 : 6\n",
      "type 8 : 7\n",
      "type 9 : 8\n",
      "\n",
      "\n",
      "Columns Name: char_6\n",
      "************\n",
      "type 1 : 0\n",
      "type 2 : 1\n",
      "type 3 : 2\n",
      "type 4 : 3\n",
      "type 5 : 4\n",
      "type 6 : 5\n",
      "type 7 : 6\n",
      "\n",
      "\n",
      "Columns Name: char_7\n",
      "************\n",
      "type 1 : 0\n",
      "type 10 : 1\n",
      "type 11 : 2\n",
      "type 12 : 3\n",
      "type 13 : 4\n",
      "type 14 : 5\n",
      "type 15 : 6\n",
      "type 16 : 7\n",
      "type 17 : 8\n",
      "type 18 : 9\n",
      "type 19 : 10\n",
      "type 2 : 11\n",
      "type 20 : 12\n",
      "type 21 : 13\n",
      "type 22 : 14\n",
      "type 23 : 15\n",
      "type 24 : 16\n",
      "type 25 : 17\n",
      "type 3 : 18\n",
      "type 4 : 19\n",
      "type 5 : 20\n",
      "type 6 : 21\n",
      "type 7 : 22\n",
      "type 8 : 23\n",
      "type 9 : 24\n",
      "\n",
      "\n",
      "Columns Name: char_8\n",
      "************\n",
      "type 1 : 0\n",
      "type 2 : 1\n",
      "type 3 : 2\n",
      "type 4 : 3\n",
      "type 5 : 4\n",
      "type 6 : 5\n",
      "type 7 : 6\n",
      "type 8 : 7\n",
      "\n",
      "\n",
      "Columns Name: char_9\n",
      "************\n",
      "type 1 : 0\n",
      "type 2 : 1\n",
      "type 3 : 2\n",
      "type 4 : 3\n",
      "type 5 : 4\n",
      "type 6 : 5\n",
      "type 7 : 6\n",
      "type 8 : 7\n",
      "type 9 : 8\n"
     ]
    }
   ],
   "source": [
    "#Vamos a codificar las variables categoricas\n",
    "from sklearn.preprocessing import LabelEncoder\n",
    "encoder = LabelEncoder()\n",
    "columnas_categoricas = [\"activity_category\",\"char_1\",\"char_2\",\"char_3\",\"char_4\",\"char_5\",\"char_6\",\"char_7\",\"char_8\",\"char_9\"]\n",
    "\n",
    "for col in columnas_categoricas:    \n",
    "    print('\\n')\n",
    "    print('Columns Name: %s' %col)\n",
    "    print('************')\n",
    "    df[col] = df[[col]].apply(encoder.fit_transform)\n",
    "    for i in range(len(encoder.classes_)):\n",
    "        print(encoder.classes_[i],':', i)\n",
    "\n",
    "        "
   ]
  },
  {
   "cell_type": "code",
   "execution_count": 74,
   "id": "93a800a4",
   "metadata": {},
   "outputs": [
    {
     "name": "stdout",
     "output_type": "stream",
     "text": [
      "(2197291, 49) (2197291, 1)\n"
     ]
    }
   ],
   "source": [
    "#Separamos la matriz en variables para entrenas y el vecotor a predecir\n",
    "X = df.loc[:, ['people_id', 'activity_id', 'activity_category', 'activity_type',\n",
    "       'char_1', 'group_1', 'char_2', 'char_3', 'char_4', 'char_5',\n",
    "       'char_6', 'char_7', 'char_8', 'char_9', 'char_10', 'char_11', 'char_12',\n",
    "       'char_13', 'char_14', 'char_15', 'char_16', 'char_17', 'char_18',\n",
    "       'char_19', 'char_20', 'char_21', 'char_22', 'char_23', 'char_24',\n",
    "       'char_25', 'char_26', 'char_27', 'char_28', 'char_29', 'char_30',\n",
    "       'char_31', 'char_32', 'char_33', 'char_34', 'char_35', 'char_36',\n",
    "       'char_37', 'char_38', 'Year', 'Month', 'Quarter', 'Week', 'WeekDay','Day']] \n",
    "y = df.loc[:, [\"outcome\"]]\n",
    "print( X.shape, y.shape)"
   ]
  },
  {
   "cell_type": "code",
   "execution_count": 75,
   "id": "57f86c16",
   "metadata": {},
   "outputs": [
    {
     "name": "stdout",
     "output_type": "stream",
     "text": [
      "x_train: (1582048, 49)\n",
      "x_test: (439459, 49)\n",
      "x_val: (175784, 49)\n",
      "y_train: (1582048, 1)\n",
      "y_test: (439459, 1)\n",
      "y_val: (175784, 1)\n"
     ]
    }
   ],
   "source": [
    "#Dividamso los datos para su entremiento, validación y prueba.\n",
    "from sklearn.model_selection import train_test_split\n",
    "x_train, x_test, y_train, y_test = train_test_split(X, y, test_size=0.2,random_state=2018)\n",
    "x_train, x_val, y_train, y_val = train_test_split(x_train, y_train, test_size=0.1, random_state=2018)\n",
    "print(\"x_train:\",x_train.shape)\n",
    "print(\"x_test:\",x_test.shape)\n",
    "print(\"x_val:\",x_val.shape)\n",
    "print(\"y_train:\",y_train.shape)\n",
    "print(\"y_test:\",y_test.shape)\n",
    "print(\"y_val:\",y_val.shape)\n"
   ]
  },
  {
   "cell_type": "code",
   "execution_count": 77,
   "id": "95f64e2d",
   "metadata": {},
   "outputs": [
    {
     "name": "stdout",
     "output_type": "stream",
     "text": [
      "Epoch 1/3\n",
      "24720/24720 [==============================] - 213s 8ms/step - loss: 495.5801 - accuracy: 0.6221 - val_loss: 0.6872 - val_accuracy: 0.5545\n",
      "Epoch 2/3\n",
      "24720/24720 [==============================] - 210s 8ms/step - loss: 0.6947 - accuracy: 0.5562 - val_loss: 0.6872 - val_accuracy: 0.5545\n",
      "Epoch 3/3\n",
      "24720/24720 [==============================] - 206s 8ms/step - loss: 0.6868 - accuracy: 0.5562 - val_loss: 0.6872 - val_accuracy: 0.5545\n"
     ]
    },
    {
     "data": {
      "text/plain": [
       "<keras.callbacks.History at 0x2625a62a9e0>"
      ]
     },
     "execution_count": 77,
     "metadata": {},
     "output_type": "execute_result"
    }
   ],
   "source": [
    "#Ahora si vamos a entrenar la matriz X.\n",
    "from keras.models import Sequential\n",
    "from keras.layers import Dense\n",
    "\n",
    "model = Sequential()\n",
    "model.add(Dense(256,input_dim=x_train.shape[1],activation=\"relu\"))\n",
    "model.add(Dense(256,activation=\"relu\"))\n",
    "model.add(Dense(1,activation=\"sigmoid\")) \n",
    "model.compile(optimizer=\"Adam\",loss=\"binary_crossentropy\", metrics=[\"accuracy\"])\n",
    "model.fit(x_train,y_train,validation_data=(x_val,y_val), epochs=3, batch_size=64)"
   ]
  },
  {
   "cell_type": "code",
   "execution_count": 78,
   "id": "43fd1662",
   "metadata": {},
   "outputs": [
    {
     "name": "stdout",
     "output_type": "stream",
     "text": [
      "Epoch 1/2\n",
      "24720/24720 [==============================] - 208s 8ms/step - loss: 419.9440 - accuracy: 0.6220 - val_loss: 0.6866 - val_accuracy: 0.5597\n",
      "Epoch 2/2\n",
      "24720/24720 [==============================] - 197s 8ms/step - loss: 0.6919 - accuracy: 0.5562 - val_loss: 0.6902 - val_accuracy: 0.5544\n"
     ]
    },
    {
     "data": {
      "text/plain": [
       "<keras.callbacks.History at 0x2625a923c70>"
      ]
     },
     "execution_count": 78,
     "metadata": {},
     "output_type": "execute_result"
    }
   ],
   "source": [
    "model = Sequential()\n",
    "model.add(Dense(256,input_dim = x_train.shape[1],activation=\"relu\"))\n",
    "model.add(Dense(256,activation=\"relu\"))\n",
    "model.add(Dense(1,activation=\"sigmoid\"))\n",
    "model.compile(optimizer=\"Adam\",loss=\"binary_crossentropy\", metrics=[\"accuracy\"])\n",
    "model.fit(x_train,y_train,validation_data=(x_val,y_val),epochs=2, batch_size=64)"
   ]
  },
  {
   "cell_type": "code",
   "execution_count": 79,
   "id": "a1b2a7cd",
   "metadata": {},
   "outputs": [
    {
     "name": "stdout",
     "output_type": "stream",
     "text": [
      "Epoch 1/2\n",
      "24720/24720 [==============================] - 137s 5ms/step - loss: 915.9578 - accuracy: 0.6790 - val_loss: 394.1859 - val_accuracy: 0.6674\n",
      "Epoch 2/2\n",
      "24720/24720 [==============================] - 121s 5ms/step - loss: 216.7239 - accuracy: 0.7366 - val_loss: 272.9830 - val_accuracy: 0.5962\n"
     ]
    },
    {
     "data": {
      "text/plain": [
       "<keras.callbacks.History at 0x2625aa61fc0>"
      ]
     },
     "execution_count": 79,
     "metadata": {},
     "output_type": "execute_result"
    }
   ],
   "source": [
    "model = Sequential()\n",
    "model.add(Dense(512,input_dim=x_train.shape[1],activation=\"relu\"))\n",
    "model.add(Dense(1,activation=\"sigmoid\"))\n",
    "model.compile(optimizer=\"Adam\",loss=\"binary_crossentropy\", metrics=[\"accuracy\"])\n",
    "model.fit(x_train,y_train,validation_data=(x_val,y_val),epochs=2, batch_size=64)"
   ]
  },
  {
   "cell_type": "code",
   "execution_count": 80,
   "id": "6bb7359f",
   "metadata": {},
   "outputs": [
    {
     "name": "stdout",
     "output_type": "stream",
     "text": [
      "Epoch 1/2\n",
      "24720/24720 [==============================] - 499s 20ms/step - loss: 338.9270 - accuracy: 0.6064 - val_loss: 0.6872 - val_accuracy: 0.5545\n",
      "Epoch 2/2\n",
      "24720/24720 [==============================] - 432s 17ms/step - loss: 0.7327 - accuracy: 0.5562 - val_loss: 0.6872 - val_accuracy: 0.5545\n"
     ]
    },
    {
     "data": {
      "text/plain": [
       "<keras.callbacks.History at 0x2625ab9caf0>"
      ]
     },
     "execution_count": 80,
     "metadata": {},
     "output_type": "execute_result"
    }
   ],
   "source": [
    "model = Sequential()\n",
    "model.add(Dense(512,input_dim=x_train.shape[1],activation=\"relu\"))\n",
    "model.add(Dense(512,activation=\"relu\"))\n",
    "model.add(Dense(1,activation = \"sigmoid\"))\n",
    "model.compile(optimizer=\"Adam\",loss=\"binary_crossentropy\",metrics=[\"accuracy\"])\n",
    "model.fit(x_train,y_train,validation_data=(x_val,y_val),epochs=2, batch_size=64)"
   ]
  },
  {
   "cell_type": "code",
   "execution_count": 31,
   "id": "db707c0c",
   "metadata": {},
   "outputs": [],
   "source": [
    "#Hay que intentar normalizar, estandarizar o centrar los datos para mirar sihay diferentes resultados."
   ]
  },
  {
   "cell_type": "code",
   "execution_count": 81,
   "id": "f76b6f7d",
   "metadata": {},
   "outputs": [],
   "source": [
    "from sklearn.preprocessing import StandardScaler\n",
    "scaler = StandardScaler()\n",
    "scaler.fit(x_train)\n",
    "x_train_scaled = scaler.transform(x_train)\n",
    "x_val_scaled = scaler.transform(x_val)\n",
    "x_test_scaled = scaler.transform(x_test)"
   ]
  },
  {
   "cell_type": "code",
   "execution_count": 82,
   "id": "3e652932",
   "metadata": {},
   "outputs": [
    {
     "name": "stdout",
     "output_type": "stream",
     "text": [
      "Epoch 1/2\n",
      "24720/24720 [==============================] - 165s 7ms/step - loss: 0.2788 - accuracy: 0.8668 - val_loss: 0.2454 - val_accuracy: 0.8866\n",
      "Epoch 2/2\n",
      "24720/24720 [==============================] - 139s 6ms/step - loss: 0.2247 - accuracy: 0.8991 - val_loss: 0.2114 - val_accuracy: 0.9072\n",
      "13734/13734 [==============================] - 52s 4ms/step - loss: 0.2123 - accuracy: 0.9067\n",
      "Metric  loss : 0.21\n",
      "Metric  accuracy : 0.91\n"
     ]
    }
   ],
   "source": [
    "model = Sequential()\n",
    "model.add(Dense(512,input_dim=x_train_scaled.shape[1],activation=\"relu\"))\n",
    "model.add(Dense(1,activation=\"sigmoid\"))\n",
    "model.compile(optimizer=\"Adam\",loss=\"binary_crossentropy\",metrics=[\"accuracy\"])\n",
    "model.fit(x_train_scaled,y_train,validation_data=(x_val_scaled,y_val), epochs=2, batch_size=64)\n",
    "result = model.evaluate(x_test_scaled,y_test)\n",
    "\n",
    "for i in range(len(model.metrics_names)):\n",
    "    print(\"Metric \",model.metrics_names[i],\":\", str(round(result[i],2)))"
   ]
  },
  {
   "cell_type": "code",
   "execution_count": 83,
   "id": "22848706",
   "metadata": {},
   "outputs": [
    {
     "name": "stdout",
     "output_type": "stream",
     "text": [
      "Epoch 1/2\n",
      "24720/24720 [==============================] - 487s 20ms/step - loss: 0.2298 - accuracy: 0.8946 - val_loss: 0.1792 - val_accuracy: 0.9230\n",
      "Epoch 2/2\n",
      "24720/24720 [==============================] - 501s 20ms/step - loss: 0.1600 - accuracy: 0.9325 - val_loss: 0.1503 - val_accuracy: 0.9380\n"
     ]
    },
    {
     "data": {
      "text/plain": [
       "<keras.callbacks.History at 0x2625bfe33a0>"
      ]
     },
     "execution_count": 83,
     "metadata": {},
     "output_type": "execute_result"
    }
   ],
   "source": [
    "model = Sequential()\n",
    "model.add(Dense(512,input_dim = x_train_scaled.shape[1],activation=\"relu\"))\n",
    "model.add(Dense(512,activation=\"relu\"))\n",
    "model.add(Dense(1,activation=\"sigmoid\"))\n",
    "model.compile(optimizer=\"Adam\",loss=\"binary_crossentropy\",metrics=[\"accuracy\"])\n",
    "model.fit(x_train_scaled,y_train,validation_data=(x_val_scaled,y_val),epochs=2, batch_size=64)"
   ]
  },
  {
   "cell_type": "code",
   "execution_count": 84,
   "id": "ff8aa784",
   "metadata": {},
   "outputs": [
    {
     "name": "stdout",
     "output_type": "stream",
     "text": [
      "Epoch 1/2\n",
      "24720/24720 [==============================] - 1712s 69ms/step - loss: 0.2284 - accuracy: 0.8947 - val_loss: 0.1738 - val_accuracy: 0.9251\n",
      "Epoch 2/2\n",
      "24720/24720 [==============================] - 2282s 92ms/step - loss: 0.1555 - accuracy: 0.9341 - val_loss: 0.1401 - val_accuracy: 0.9416\n"
     ]
    },
    {
     "data": {
      "text/plain": [
       "<keras.callbacks.History at 0x2625c8bfa60>"
      ]
     },
     "execution_count": 84,
     "metadata": {},
     "output_type": "execute_result"
    }
   ],
   "source": [
    "model = Sequential()\n",
    "model.add(Dense(1024,input_dim=x_train_scaled.shape[1],activation=\"relu\"))\n",
    "model.add(Dense(1024,activation = \"relu\"))\n",
    "model.add(Dense(1,activation = \"sigmoid\"))\n",
    "model.compile(optimizer = \"Adam\",loss=\"binary_crossentropy\",metrics=[\"accuracy\"])\n",
    "model.fit(x_train_scaled,y_train, validation_data=(x_val_scaled,y_val),epochs=2, batch_size=64)"
   ]
  },
  {
   "cell_type": "code",
   "execution_count": 85,
   "id": "ad6e3dfb",
   "metadata": {},
   "outputs": [
    {
     "name": "stdout",
     "output_type": "stream",
     "text": [
      "Epoch 1/5\n",
      "24720/24720 [==============================] - 423s 17ms/step - loss: 0.2283 - accuracy: 0.8950 - val_loss: 0.1764 - val_accuracy: 0.9239\n",
      "Epoch 2/5\n",
      "24720/24720 [==============================] - 416s 17ms/step - loss: 0.1584 - accuracy: 0.9328 - val_loss: 0.1526 - val_accuracy: 0.9368\n",
      "Epoch 3/5\n",
      "24720/24720 [==============================] - 1466s 59ms/step - loss: 0.1340 - accuracy: 0.9448 - val_loss: 0.1295 - val_accuracy: 0.9469\n",
      "Epoch 4/5\n",
      "24720/24720 [==============================] - 484s 20ms/step - loss: 0.1202 - accuracy: 0.9512 - val_loss: 0.1207 - val_accuracy: 0.9510\n",
      "Epoch 5/5\n",
      "24720/24720 [==============================] - 441s 18ms/step - loss: 0.1110 - accuracy: 0.9553 - val_loss: 0.1160 - val_accuracy: 0.9530\n",
      "13734/13734 [==============================] - 103s 7ms/step - loss: 0.1157 - accuracy: 0.9539\n",
      "Metric  loss : 0.12\n",
      "Metric  accuracy : 0.95\n"
     ]
    }
   ],
   "source": [
    "model = Sequential()\n",
    "model.add(Dense(512,input_dim=x_train_scaled.shape[1],activation=\"relu\"))\n",
    "model.add(Dense(512,activation=\"relu\"))\n",
    "model.add(Dense(1,activation=\"sigmoid\"))\n",
    "model.compile(optimizer=\"Adam\",loss=\"binary_crossentropy\",metrics=[\"accuracy\"])\n",
    "model.fit(x_train_scaled,y_train,validation_data=(x_val_scaled,y_val),epochs=5, batch_size=64)\n",
    "\n",
    "result = model.evaluate(x_test_scaled,y_test)\n",
    "for i in range(len(model.metrics_names)):\n",
    "    print(\"Metric \",model.metrics_names[i],\":\", str(round(result[i],2)))"
   ]
  },
  {
   "cell_type": "code",
   "execution_count": 86,
   "id": "4627bf57",
   "metadata": {},
   "outputs": [
    {
     "ename": "KeyError",
     "evalue": "'loss'",
     "output_type": "error",
     "traceback": [
      "\u001b[1;31m---------------------------------------------------------------------------\u001b[0m",
      "\u001b[1;31mKeyError\u001b[0m                                  Traceback (most recent call last)",
      "Input \u001b[1;32mIn [86]\u001b[0m, in \u001b[0;36m<module>\u001b[1;34m\u001b[0m\n\u001b[1;32m----> 1\u001b[0m plt\u001b[38;5;241m.\u001b[39mplot(\u001b[43mmodel\u001b[49m\u001b[38;5;241;43m.\u001b[39;49m\u001b[43mhistory\u001b[49m\u001b[38;5;241;43m.\u001b[39;49m\u001b[43mhistory\u001b[49m\u001b[43m[\u001b[49m\u001b[38;5;124;43m'\u001b[39;49m\u001b[38;5;124;43mloss\u001b[39;49m\u001b[38;5;124;43m'\u001b[39;49m\u001b[43m]\u001b[49m)\n\u001b[0;32m      2\u001b[0m plt\u001b[38;5;241m.\u001b[39mplot(model\u001b[38;5;241m.\u001b[39mhistory\u001b[38;5;241m.\u001b[39mhistory[\u001b[38;5;124m'\u001b[39m\u001b[38;5;124mval_loss\u001b[39m\u001b[38;5;124m'\u001b[39m])\n\u001b[0;32m      3\u001b[0m plt\u001b[38;5;241m.\u001b[39mtitle(\u001b[38;5;124m\"\u001b[39m\u001b[38;5;124mModel\u001b[39m\u001b[38;5;124m'\u001b[39m\u001b[38;5;124ms Training & Validation loss across epochs\u001b[39m\u001b[38;5;124m\"\u001b[39m)\n",
      "\u001b[1;31mKeyError\u001b[0m: 'loss'"
     ]
    }
   ],
   "source": [
    "plt.plot(model.history.history['loss'])\n",
    "plt.plot(model.history.history['val_loss'])\n",
    "plt.title(\"Model's Training & Validation loss across epochs\")\n",
    "plt.ylabel('Loss')\n",
    "plt.xlabel('Epochs')\n",
    "plt.legend(['Train', 'Validation'], loc='upper right')\n",
    "plt.show()"
   ]
  },
  {
   "cell_type": "code",
   "execution_count": null,
   "id": "56096d4c",
   "metadata": {},
   "outputs": [],
   "source": [
    "plt.plot(model.history.history['acc'])\n",
    "plt.plot(model.history.history['val_acc'])\n",
    "plt.title(\"Model's Training & Validation Accuracy across epochs\")\n",
    "plt.ylabel('Accuracy')\n",
    "plt.xlabel('Epochs')\n",
    "plt.legend(['Train', 'Validation'], loc='upper right')\n",
    "plt.show()"
   ]
  }
 ],
 "metadata": {
  "kernelspec": {
   "display_name": "Python 3 (ipykernel)",
   "language": "python",
   "name": "python3"
  },
  "language_info": {
   "codemirror_mode": {
    "name": "ipython",
    "version": 3
   },
   "file_extension": ".py",
   "mimetype": "text/x-python",
   "name": "python",
   "nbconvert_exporter": "python",
   "pygments_lexer": "ipython3",
   "version": "3.10.2"
  }
 },
 "nbformat": 4,
 "nbformat_minor": 5
}
